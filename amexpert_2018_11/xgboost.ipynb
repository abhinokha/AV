{
 "cells": [
  {
   "cell_type": "code",
   "execution_count": 1,
   "metadata": {},
   "outputs": [
    {
     "name": "stderr",
     "output_type": "stream",
     "text": [
      "/Users/abhishekperiwal/anaconda3/lib/python3.6/site-packages/sklearn/cross_validation.py:41: DeprecationWarning: This module was deprecated in version 0.18 in favor of the model_selection module into which all the refactored classes and functions are moved. Also note that the interface of the new CV iterators are different from that of this module. This module will be removed in 0.20.\n",
      "  \"This module will be removed in 0.20.\", DeprecationWarning)\n",
      "/Users/abhishekperiwal/anaconda3/lib/python3.6/site-packages/sklearn/grid_search.py:42: DeprecationWarning: This module was deprecated in version 0.18 in favor of the model_selection module into which all the refactored classes and functions are moved. This module will be removed in 0.20.\n",
      "  DeprecationWarning)\n"
     ]
    }
   ],
   "source": [
    "## importing libraries\n",
    "import numpy as np\n",
    "import pandas as pd\n",
    "import datetime \n",
    "\n",
    "import sys\n",
    "\n",
    "from sklearn.preprocessing import LabelEncoder\n",
    "from sklearn.model_selection import train_test_split\n",
    "from sklearn.grid_search import GridSearchCV\n",
    "from sklearn import metrics\n",
    "from sklearn.model_selection import StratifiedKFold\n",
    "from sklearn import preprocessing, cross_validation\n",
    "\n",
    "from sklearn.model_selection import cross_validate as cv\n",
    "\n",
    "import xgboost as xgb\n",
    "\n",
    "import os\n",
    "os.environ['KMP_DUPLICATE_LIB_OK']='True'"
   ]
  },
  {
   "cell_type": "code",
   "execution_count": 8,
   "metadata": {},
   "outputs": [],
   "source": [
    "def encode_categories(df):\n",
    "        \"\"\"Encodes categorical variables into one-hot or label.\n",
    "        \"\"\"\n",
    "        # extracting categorical variables\n",
    "        categorical_variables = []\n",
    "\n",
    "        for colname in df.columns:\n",
    "            if df[colname].dtype == \"object\":\n",
    "                categorical_variables.append(colname)\n",
    "                print(\"Categorical Variable: %s, No. Categories: %d\" % (colname, len(np.unique(df[colname].values.astype(\"str\")))))\n",
    "\n",
    "        if len(categorical_variables) > 0:\n",
    "            print(\"1: Label encode categorical variables\\n2: Onehot encode categorical variables\\n3: Remove categorical variables\\n4: Do nothing\")\n",
    "            \n",
    "            while True:\n",
    "                encoding = \"1\"\n",
    "                if encoding.lower() not in [\"1\", \"2\", \"3\", \"4\"]:\n",
    "                    print(\"Please choose one of the above: \")\n",
    "                else:\n",
    "                    print(\"\")\n",
    "                    break\n",
    "                    break\n",
    "\n",
    "            if encoding == \"1\":\n",
    "                label = LabelEncoder()\n",
    "                for colname in categorical_variables:\n",
    "                    label.fit(list(df[colname].values.astype(\"str\")))\n",
    "                    df[colname] = label.transform(list(df[colname].values.astype(\"str\")))\n",
    "                print(\"Label encoded the categorical variables\")\n",
    "            elif encoding == \"2\":\n",
    "                df = pd.get_dummies(df, columns=categorical_variables)\n",
    "                df = df[df.columns]\n",
    "                print(\"Onehot encoded the categorical variables\")\n",
    "            elif encoding == \"3\":\n",
    "                df.drop(categorical_variables, axis=1, inplace=True)\n",
    "                print(\"Categorical variables removed from data\")\n",
    "\n",
    "        return df"
   ]
  },
  {
   "cell_type": "code",
   "execution_count": 2,
   "metadata": {},
   "outputs": [],
   "source": [
    "train = pd.read_csv(\"train.csv\")\n",
    "test = pd.read_csv(\"test.csv\")"
   ]
  },
  {
   "cell_type": "code",
   "execution_count": 3,
   "metadata": {},
   "outputs": [],
   "source": [
    "final_feature = pd.read_csv(\"features_stage1.csv\")"
   ]
  },
  {
   "cell_type": "code",
   "execution_count": 6,
   "metadata": {},
   "outputs": [],
   "source": [
    "def date_features(df):\n",
    "    df['DateTime'] = pd.to_datetime(df['DateTime'])\n",
    "    # Extracting Day, weekday and hours from timestamp\n",
    "    df['date'] = df['DateTime'].dt.date\n",
    "    df['day'] = df['DateTime'].dt.day\n",
    "    df['weekday'] = df['DateTime'].dt.weekday\n",
    "    df['hour'] = df['DateTime'].dt.hour\n",
    "    \n",
    "    return df"
   ]
  },
  {
   "cell_type": "code",
   "execution_count": 7,
   "metadata": {},
   "outputs": [],
   "source": [
    "def train_test_cleaning(df):\n",
    "    df['product_category_2'].fillna(99999, inplace=True)\n",
    "    df['user_group_id'].fillna(99, inplace=True)\n",
    "    df['gender'].fillna('Unknown', inplace=True)\n",
    "    df['age_level'].fillna(9, inplace=True)\n",
    "    df['user_depth'].fillna(9, inplace=True)\n",
    "    df['city_development_index'].fillna(9, inplace=True)\n",
    "    df = df.fillna(0)\n",
    "    return df"
   ]
  },
  {
   "cell_type": "code",
   "execution_count": 10,
   "metadata": {},
   "outputs": [
    {
     "name": "stdout",
     "output_type": "stream",
     "text": [
      "Categorical Variable: product, No. Categories: 10\n",
      "Categorical Variable: gender, No. Categories: 3\n",
      "Categorical Variable: date, No. Categories: 8\n",
      "1: Label encode categorical variables\n",
      "2: Onehot encode categorical variables\n",
      "3: Remove categorical variables\n",
      "4: Do nothing\n",
      "\n",
      "Label encoded the categorical variables\n"
     ]
    }
   ],
   "source": [
    "train['train'] = 1\n",
    "test['train'] = 0\n",
    "feature_data = train.drop(columns='is_click').append(test)\n",
    "feature_data = date_features(feature_data)\n",
    "feature_data = train_test_cleaning(feature_data)\n",
    "feature_data = encode_categories(feature_data)\n",
    "feature_data['date'] = feature_data['DateTime'].dt.date"
   ]
  },
  {
   "cell_type": "code",
   "execution_count": 11,
   "metadata": {},
   "outputs": [],
   "source": [
    "train_df = feature_data[feature_data['train'] == 1]\n",
    "test_df = feature_data[feature_data['train'] == 0]"
   ]
  },
  {
   "cell_type": "code",
   "execution_count": 12,
   "metadata": {},
   "outputs": [],
   "source": [
    "y_train = train['is_click']"
   ]
  },
  {
   "cell_type": "code",
   "execution_count": 14,
   "metadata": {},
   "outputs": [],
   "source": [
    "x_train = train_df.merge(final_feature, on = ['user_id','date'], how = 'left').fillna(0)\n",
    "x_test = test_df.merge(final_feature, on = ['user_id','date'], how = 'left').fillna(0)"
   ]
  },
  {
   "cell_type": "code",
   "execution_count": 18,
   "metadata": {},
   "outputs": [],
   "source": [
    "X_train, X_val, Y_train, Y_val = train_test_split(x_train.drop(columns = ['session_id','DateTime','train', 'Unnamed: 0','date']), y_train, test_size=0.2, random_state=69)"
   ]
  },
  {
   "cell_type": "code",
   "execution_count": 88,
   "metadata": {},
   "outputs": [],
   "source": [
    "parameters = {'booster':'gbtree',\n",
    "                  'objective':'binary:logistic',\n",
    "                  'learning_rate': 0.05,\n",
    "                  'max_depth': 6,\n",
    "                  'min_child_weight': 8,\n",
    "                  'subsample': 0.8,\n",
    "                  'colsample_bytree': 0.6,\n",
    "                  #'n_estimators': 100,\n",
    "                  'reg_aplpha': 0.01,\n",
    "                  'reg_lambda': 20,\n",
    "                  'eval_metric':'auc',\n",
    "                  'seed': 79}"
   ]
  },
  {
   "cell_type": "code",
   "execution_count": 89,
   "metadata": {},
   "outputs": [],
   "source": [
    "xg_train = xgb.DMatrix(X_train.drop(columns=['user_id']), label=Y_train)\n",
    "xg_val = xgb.DMatrix(X_val.drop(columns=['user_id']), label=Y_val)"
   ]
  },
  {
   "cell_type": "code",
   "execution_count": 90,
   "metadata": {},
   "outputs": [],
   "source": [
    "xgb_reg = xgb.train(parameters, xg_train, 300, verbose_eval=1)"
   ]
  },
  {
   "cell_type": "code",
   "execution_count": 91,
   "metadata": {},
   "outputs": [
    {
     "data": {
      "text/plain": [
       "0.6326872817879272"
      ]
     },
     "execution_count": 91,
     "metadata": {},
     "output_type": "execute_result"
    }
   ],
   "source": [
    "fpr_train, tpr_train, thresholds_train = metrics.roc_curve(Y_train, xgb_reg.predict(xg_train))\n",
    "metrics.auc(fpr_train, tpr_train)"
   ]
  },
  {
   "cell_type": "code",
   "execution_count": 92,
   "metadata": {},
   "outputs": [
    {
     "data": {
      "text/plain": [
       "0.5924669098722324"
      ]
     },
     "execution_count": 92,
     "metadata": {},
     "output_type": "execute_result"
    }
   ],
   "source": [
    "fpr_test, tpr_test, thresholds_test = metrics.roc_curve(Y_val, xgb_reg.predict(xg_val))\n",
    "metrics.auc(fpr_test, tpr_test)"
   ]
  },
  {
   "cell_type": "code",
   "execution_count": 93,
   "metadata": {},
   "outputs": [],
   "source": [
    "xg_test = xgb.DMatrix(x_test.drop(columns=['user_id','session_id','DateTime','train', 'Unnamed: 0','date']).fillna(0))"
   ]
  },
  {
   "cell_type": "code",
   "execution_count": 94,
   "metadata": {},
   "outputs": [],
   "source": [
    "y_xgb_pred = xgb_reg.predict(xg_test)"
   ]
  },
  {
   "cell_type": "code",
   "execution_count": 95,
   "metadata": {},
   "outputs": [],
   "source": [
    "solution = pd.concat([x_test['session_id'], pd.DataFrame(y_xgb_pred)],axis=1)"
   ]
  },
  {
   "cell_type": "code",
   "execution_count": 96,
   "metadata": {},
   "outputs": [],
   "source": [
    "solution.to_csv(\"solution7.csv\", index = False)"
   ]
  }
 ],
 "metadata": {
  "kernelspec": {
   "display_name": "Python 3",
   "language": "python",
   "name": "python3"
  },
  "language_info": {
   "codemirror_mode": {
    "name": "ipython",
    "version": 3
   },
   "file_extension": ".py",
   "mimetype": "text/x-python",
   "name": "python",
   "nbconvert_exporter": "python",
   "pygments_lexer": "ipython3",
   "version": "3.6.6"
  }
 },
 "nbformat": 4,
 "nbformat_minor": 2
}
