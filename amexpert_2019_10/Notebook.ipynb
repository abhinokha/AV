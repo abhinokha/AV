{
 "cells": [
  {
   "cell_type": "code",
   "execution_count": 1,
   "metadata": {
    "collapsed": true,
    "deletable": true,
    "editable": true
   },
   "outputs": [],
   "source": [
    "import pandas as pd\n",
    "import numpy as np\n",
    "from datetime import timedelta\n",
    "\n",
    "import gc\n",
    "\n",
    "from sklearn.model_selection import train_test_split, cross_val_score\n",
    "from sklearn import model_selection, preprocessing, metrics\n",
    "\n",
    "import lightgbm as lgb\n",
    "\n",
    "from sklearn.metrics import auc\n",
    "from sklearn.metrics import roc_curve\n",
    "from sklearn.metrics import roc_auc_score\n",
    "\n",
    "import matplotlib.pyplot as plt\n",
    "import seaborn as sns\n",
    "\n",
    "import datetime\n",
    "\n",
    "import warnings\n",
    "warnings.filterwarnings('ignore')\n",
    "\n",
    "pd.options.mode.chained_assignment = None\n",
    "pd.options.display.max_columns = 999\n",
    "import os\n",
    "os.environ['KMP_DUPLICATE_LIB_OK']='True'"
   ]
  },
  {
   "cell_type": "code",
   "execution_count": 2,
   "metadata": {
    "collapsed": false,
    "deletable": true,
    "editable": true
   },
   "outputs": [
    {
     "data": {
      "text/plain": [
       "280"
      ]
     },
     "execution_count": 2,
     "metadata": {},
     "output_type": "execute_result"
    }
   ],
   "source": [
    "gc.collect()"
   ]
  },
  {
   "cell_type": "code",
   "execution_count": 3,
   "metadata": {
    "collapsed": true,
    "deletable": true,
    "editable": true
   },
   "outputs": [],
   "source": [
    "campaign = pd.read_csv('campaign_data.csv')\n",
    "coupon = pd.read_csv('coupon_item_mapping.csv')\n",
    "item = pd.read_csv('item_data.csv')\n",
    "customer = pd.read_csv('customer_demographics.csv')\n",
    "txn = pd.read_csv('customer_transaction_data.csv')\n",
    "train = pd.read_csv('train.csv')\n",
    "test = pd.read_csv('test.csv')"
   ]
  },
  {
   "cell_type": "code",
   "execution_count": 4,
   "metadata": {
    "collapsed": true,
    "deletable": true,
    "editable": true
   },
   "outputs": [],
   "source": [
    "campaign['start_date'] = pd.to_datetime(campaign.start_date, format = \"%d/%m/%y\")\n",
    "campaign['end_date'] = pd.to_datetime(campaign.end_date, format = \"%d/%m/%y\")\n",
    "txn['date'] = pd.to_datetime(txn.date, format = \"%Y-%m-%d\")"
   ]
  },
  {
   "cell_type": "code",
   "execution_count": 5,
   "metadata": {
    "collapsed": true,
    "deletable": true,
    "editable": true
   },
   "outputs": [],
   "source": [
    "txn = pd.merge(txn, item, on = 'item_id', how = 'left')\n",
    "txn = pd.merge(txn, customer, on = 'customer_id', how = 'left')\n",
    "coupon = pd.merge(coupon, item, on = 'item_id', how ='left')"
   ]
  },
  {
   "cell_type": "code",
   "execution_count": 6,
   "metadata": {
    "collapsed": true,
    "deletable": true,
    "editable": true
   },
   "outputs": [],
   "source": [
    "txn['week_day'] = txn.date.dt.weekday\n",
    "txn['month_day'] = txn.date.dt.day\n",
    "txn['month'] = txn.date.dt.month\n",
    "txn['year'] = txn.date.dt.year\n",
    "txn['week'] = txn.date.dt.week\n",
    "txn['weekend'] = np.where(txn['week_day']>4, \"weekend\", \"weekday\")\n",
    "txn['total_discount'] = txn.other_discount + txn.coupon_discount\n",
    "txn['mrp'] = txn.other_discount + txn.selling_price + txn.coupon_discount\n",
    "txn['other_discount_per'] = txn.other_discount/txn.mrp\n",
    "txn['coupon_discount_per'] = txn.coupon_discount/txn.mrp\n",
    "txn['total_discount_per'] = txn.total_discount/txn.mrp"
   ]
  },
  {
   "cell_type": "code",
   "execution_count": 7,
   "metadata": {
    "collapsed": true,
    "deletable": true,
    "editable": true
   },
   "outputs": [],
   "source": [
    "txn['income_bracket'] = txn.income_bracket.fillna(0).astype(int).astype(str)\n",
    "txn['rented'] = txn.rented.fillna(2).astype(int).astype(str)"
   ]
  },
  {
   "cell_type": "code",
   "execution_count": 8,
   "metadata": {
    "collapsed": true,
    "deletable": true,
    "editable": true
   },
   "outputs": [],
   "source": [
    "campaign_coupon = train[['campaign_id', 'coupon_id']].drop_duplicates().append(test[['campaign_id', 'coupon_id']].drop_duplicates())"
   ]
  },
  {
   "cell_type": "code",
   "execution_count": 9,
   "metadata": {
    "collapsed": true,
    "deletable": true,
    "editable": true
   },
   "outputs": [],
   "source": [
    "def campaign_overlap(campaign):\n",
    "    campaign_overlap = pd.DataFrame()\n",
    "    for c in campaign.campaign_id:\n",
    "        start_date = campaign[campaign.campaign_id==c].iloc[0]['start_date']\n",
    "        end_date = campaign[campaign.campaign_id==c].iloc[0]['end_date']\n",
    "        temp = campaign[((campaign.start_date>=start_date) & (campaign.end_date<=end_date))\n",
    "                       | ((campaign.start_date>=start_date) & (campaign.start_date<=end_date))\n",
    "                       | ((campaign.start_date<=start_date) & (campaign.end_date>=start_date))]\n",
    "        temp['for_campaign'] = c\n",
    "        campaign_overlap = temp.append(campaign_overlap)\n",
    "    campaign_overlap = campaign_overlap[campaign_overlap.campaign_id != campaign_overlap.for_campaign]\n",
    "    campaign_overlap.columns = ['overlap_campaign', 'overlap_campaign_type', 'overlap_start_date', 'overlap_end_date', 'campaign_id']\n",
    "    campaign_overlap = pd.merge(campaign_overlap, campaign, on = 'campaign_id', how = 'left')\n",
    "    \n",
    "    campaign_overlap['max_start_date'] = np.where(campaign_overlap.start_date > campaign_overlap.overlap_start_date, \n",
    "             campaign_overlap.start_date, campaign_overlap.overlap_start_date)\n",
    "\n",
    "    campaign_overlap['min_end_date'] = np.where(campaign_overlap.end_date < campaign_overlap.overlap_end_date, \n",
    "             campaign_overlap.end_date, campaign_overlap.overlap_end_date)\n",
    "    \n",
    "    campaign_overlap['overlap_days'] = (campaign_overlap['min_end_date'] - campaign_overlap['max_start_date'])/np.timedelta64(1,'D')\n",
    "    \n",
    "    overlap_count = pd.pivot_table(campaign_overlap, values = 'overlap_campaign', index = 'campaign_id', columns = 'overlap_campaign_type', aggfunc= 'nunique', fill_value=0).reset_index()\n",
    "    overlap_count.columns = ['campaign_id', 'x_overlap_count', 'y_overlap_count']\n",
    "    \n",
    "    overlap_days = pd.pivot_table(campaign_overlap, values = 'overlap_days', index = 'campaign_id', columns = 'overlap_campaign_type', aggfunc= 'max', fill_value=0).reset_index()\n",
    "    overlap_days.columns = ['campaign_id', 'x_max_overlap_days', 'y_max_overlap_days']\n",
    "    \n",
    "    campaign_overlap_features = pd.merge(overlap_count, overlap_days, on = 'campaign_id', how = 'outer')\n",
    "    \n",
    "    return campaign_overlap_features\n",
    "    "
   ]
  },
  {
   "cell_type": "code",
   "execution_count": 10,
   "metadata": {
    "collapsed": true,
    "deletable": true,
    "editable": true
   },
   "outputs": [],
   "source": [
    "def customer_item_txn(txn):\n",
    "    \n",
    "    features = txn.groupby(['customer_id','item_id'])['quantity','selling_price', 'other_discount','coupon_discount'].sum().reset_index()\n",
    "    features.columns = ['customer_id','item_id', 'total_quantity','gmv', 'total_other_discount','total_coupon_discount']\n",
    "    \n",
    "    disc_count_features = txn[txn.coupon_discount!=0].groupby(['customer_id','item_id'])['coupon_discount'].count().reset_index()\n",
    "    disc_count_features.columns = ['customer_id','item_id','coupon_used']\n",
    "    \n",
    "    order_count = txn.groupby(['customer_id','item_id'])['date'].count().reset_index()\n",
    "    order_count.columns = ['customer_id','item_id','order_count']\n",
    "    \n",
    "    features = pd.merge(pd.merge(features, \n",
    "                                 disc_count_features, on = ['customer_id','item_id'], how = 'left'), \n",
    "                        order_count, on = ['customer_id','item_id'], how = 'left').fillna(0)\n",
    "    #features = features['coupon_used']/features['order_count']\n",
    "    \n",
    "    return features"
   ]
  },
  {
   "cell_type": "code",
   "execution_count": 11,
   "metadata": {
    "collapsed": true,
    "deletable": true,
    "editable": true
   },
   "outputs": [],
   "source": [
    "def customer_campaign_coupon(txn, coupon):\n",
    "    \n",
    "    customer_item_features = customer_item_txn(txn)\n",
    "    df = pd.merge(customer_item_features, coupon, on = 'item_id', how = 'left')\n",
    "    df = df[df.coupon_id.notnull()]\n",
    "    df['coupon_id'] = df['coupon_id'].astype(int)\n",
    "    \n",
    "    id_cols = ['customer_id', 'coupon_id']\n",
    "    \n",
    "    unique_count_item = pd.pivot_table(df, values='item_id', index=['customer_id', 'coupon_id'], columns='brand_type', aggfunc='nunique', fill_value=0).reset_index()\n",
    "    unique_count_item.columns = ['customer_id',  'coupon_id', 'ccc_Established_item_cnt', 'ccc_Local_item_cnt']\n",
    "    unique_count_item['ccc_Established_item_cnt_per'] = unique_count_item['ccc_Established_item_cnt']/(unique_count_item['ccc_Established_item_cnt']+unique_count_item['ccc_Local_item_cnt'])\n",
    "    \n",
    "    unique_count_brand = pd.pivot_table(df, values='brand', index=['customer_id', 'coupon_id'], columns='brand_type', aggfunc='nunique', fill_value=0).reset_index()\n",
    "    unique_count_brand.columns = ['customer_id', 'coupon_id', 'ccc_Established_brand_cnt', 'ccc_Local_brand_cnt']\n",
    "    \n",
    "    unique_count_order = pd.pivot_table(df, values='order_count', index=['customer_id',  'coupon_id'], columns='brand_type', aggfunc='nunique', fill_value=0).reset_index()\n",
    "    unique_count_order.columns = ['customer_id', 'coupon_id', 'ccc_Established_order_cnt', 'ccc_Local_order_cnt']\n",
    "    \n",
    "    unique_count_coupon = pd.pivot_table(df, values='coupon_used', index=['customer_id', 'coupon_id'], columns='brand_type', aggfunc=np.sum, fill_value=0).reset_index()\n",
    "    unique_count_coupon.columns = ['customer_id', 'coupon_id', 'ccc_Established_coupon_used', 'ccc_Local_coupon_used']\n",
    "    \n",
    "    \n",
    "    sum_gmv = pd.pivot_table(df, values='gmv', index=['customer_id', 'coupon_id'], columns='brand_type', aggfunc=np.sum, fill_value=0).reset_index()\n",
    "    sum_gmv.columns = ['customer_id', 'coupon_id', 'ccc_Established_gmv', 'ccc_Local_gmv']\n",
    "    \n",
    "    sum_other_discount = pd.pivot_table(df, values='total_other_discount', index=['customer_id', 'coupon_id'], columns='brand_type', aggfunc=np.sum, fill_value=0).reset_index()\n",
    "    sum_other_discount.columns = ['customer_id', 'coupon_id', 'ccc_Established_other_disc', 'ccc_Local_other_disc']\n",
    "    \n",
    "    sum_coupon_discount = pd.pivot_table(df, values='total_coupon_discount', index=['customer_id', 'coupon_id'], columns='brand_type', aggfunc=np.sum, fill_value=0).reset_index()\n",
    "    sum_coupon_discount.columns = ['customer_id', 'coupon_id', 'ccc_Established_coupon_disc', 'ccc_Local_coupon_disc']\n",
    "    \n",
    "    order_qty_category = pd.pivot_table(df, values='total_quantity', index=['customer_id', 'coupon_id'], columns='category', aggfunc=np.sum, fill_value=0).reset_index()\n",
    "    order_qty_category['total_quantity'] = order_qty_category.drop(columns = ['customer_id', 'coupon_id']).sum(axis=1)\n",
    "    order_qty_category = pd.concat([order_qty_category[['customer_id', 'coupon_id', 'total_quantity']], order_qty_category.drop(columns = ['customer_id', 'coupon_id', 'total_quantity']).div(order_qty_category['total_quantity']/100, axis=0)], axis = 1)\n",
    "    order_qty_category.columns = ['customer_id', 'coupon_id', 'ccc_total_qty'] + list(str('ccc_qty_per_') + order_qty_category.columns[3:])\n",
    "    \n",
    "    features = pd.concat([unique_count_item, unique_count_brand.drop(columns = id_cols), \n",
    "                          unique_count_order.drop(columns = id_cols), unique_count_coupon.drop(columns = id_cols),\n",
    "                          sum_gmv.drop(columns = id_cols), sum_other_discount.drop(columns = id_cols), \n",
    "                          sum_coupon_discount.drop(columns = id_cols), order_qty_category.drop(columns = id_cols)], axis = 1)\n",
    "    \n",
    "    features['ccc_Established_coupon_affinity'] = features['ccc_Established_coupon_used']/features['ccc_Established_order_cnt']\n",
    "    features['ccc_Local_coupon_affinity'] = features['ccc_Local_coupon_used']/features['ccc_Local_order_cnt']\n",
    "    \n",
    "    features['ccc_Established_other_disc_per'] = features['ccc_Established_other_disc']/(features['ccc_Established_other_disc'] + features['ccc_Established_coupon_disc'] + features['ccc_Established_gmv'])\n",
    "    features['ccc_Established_coupon_disc_per'] = features['ccc_Established_coupon_disc']/(features['ccc_Established_other_disc'] + features['ccc_Established_coupon_disc'] + features['ccc_Established_gmv'])\n",
    "    \n",
    "    features['ccc_Local_other_disc_per'] = features['ccc_Local_other_disc']/(features['ccc_Local_other_disc'] + features['ccc_Local_coupon_disc'] + features['ccc_Local_gmv'])\n",
    "    features['ccc_Local_coupon_disc_per'] = features['ccc_Local_coupon_disc']/(features['ccc_Local_other_disc'] + features['ccc_Local_coupon_disc'] + features['ccc_Local_gmv'])\n",
    "    \n",
    "    return features.fillna(0)"
   ]
  },
  {
   "cell_type": "code",
   "execution_count": 12,
   "metadata": {
    "collapsed": true,
    "deletable": true,
    "editable": true
   },
   "outputs": [],
   "source": [
    "def customer_txn(txn):\n",
    "    \n",
    "    id_cols = ['customer_id']\n",
    "    \n",
    "    unique_count_item = pd.pivot_table(txn, values='item_id', index=['customer_id'], columns='brand_type', aggfunc='nunique', fill_value=0).reset_index()\n",
    "    unique_count_item.columns = ['customer_id', 'cx_Established_item_cnt', 'cx_Local_item_cnt']\n",
    "    unique_count_item['cx_Established_item_cnt_per'] = unique_count_item['cx_Established_item_cnt']/(unique_count_item['cx_Established_item_cnt']+unique_count_item['cx_Local_item_cnt'])\n",
    "    \n",
    "    unique_count_order = pd.pivot_table(txn, values='date', index=['customer_id'], columns='brand_type', aggfunc='count', fill_value=0).reset_index()\n",
    "    unique_count_order.columns = ['customer_id', 'cx_Established_order_cnt', 'cx_Local_order_cnt']\n",
    "\n",
    "    \n",
    "    unique_count_brand = pd.pivot_table(txn, values='brand', index=['customer_id'], columns='brand_type', aggfunc='nunique', fill_value=0).reset_index()\n",
    "    unique_count_brand.columns = ['customer_id', 'cx_Established_brand_cnt', 'cx_Local_brand_cnt']\n",
    "    \n",
    "    count_coupon_used = pd.pivot_table(txn[txn.coupon_discount!=0], values='coupon_discount', index=['customer_id'], columns='brand_type', aggfunc='count', fill_value=0).reset_index()\n",
    "    count_coupon_used.columns = ['customer_id'] + list(str('cx_') + count_coupon_used.columns[1:] + str('_coupon_used'))\n",
    "    #'cx_Established_coupon_used', 'cx_Local_coupon_used']\n",
    "    \n",
    "    sum_qty_weekday = pd.pivot_table(txn, values='quantity', index=['customer_id'], columns='weekend', aggfunc=np.sum, fill_value=0).reset_index()\n",
    "    sum_qty_weekday.columns = ['customer_id', 'cx_weekday_qty_cnt', 'cx_weekend_qty_cnt']\n",
    "    sum_qty_weekday['cx_weekend_affinity'] = sum_qty_weekday['cx_weekend_qty_cnt']/(sum_qty_weekday['cx_weekday_qty_cnt']+sum_qty_weekday['cx_weekend_qty_cnt'])\n",
    "    \n",
    "    sum_gmv = pd.pivot_table(txn, values='selling_price', index=['customer_id'], columns='brand_type', aggfunc=np.sum, fill_value=0).reset_index()\n",
    "    sum_gmv.columns = ['customer_id', 'cx_Established_gmv', 'cx_Local_gmv']\n",
    "    sum_gmv['cx_Established_gmv_per'] = sum_gmv['cx_Established_gmv']/(sum_gmv['cx_Established_gmv']+sum_gmv['cx_Local_gmv'])\n",
    "    \n",
    "    sum_other_discount = pd.pivot_table(txn, values='other_discount', index=['customer_id'], columns='brand_type', aggfunc=np.sum, fill_value=0).reset_index()\n",
    "    sum_other_discount.columns = ['customer_id', 'cx_Established_other_disc', 'cx_Local_other_disc']\n",
    "    \n",
    "    sum_coupon_discount = pd.pivot_table(txn, values='coupon_discount', index=['customer_id'], columns='brand_type', aggfunc=np.sum, fill_value=0).reset_index()\n",
    "    sum_coupon_discount.columns = ['customer_id', 'cx_Established_coupon_disc', 'cx_Local_coupon_disc']\n",
    "    \n",
    "    order_qty_category = pd.pivot_table(txn, values='quantity', index=['customer_id'], columns='category', aggfunc=np.sum, fill_value=0).reset_index()\n",
    "    order_qty_category['total_quantity'] = order_qty_category.drop(columns = ['customer_id']).sum(axis=1)\n",
    "    order_qty_category = pd.concat([order_qty_category[['customer_id', 'total_quantity']], order_qty_category.drop(columns = ['customer_id', 'total_quantity']).div(order_qty_category['total_quantity']/100, axis=0)], axis = 1)\n",
    "    order_qty_category.columns = ['customer_id', 'cx_total_qty'] + list(str('cx_qty_per_') + order_qty_category.columns[2:])\n",
    "    \n",
    "    first_txn = txn.groupby('customer_id')['date'].agg(['min','max']).reset_index()\n",
    "    first_txn.columns = ['customer_id', 'first_txn_date', 'last_txn_date']\n",
    "    \n",
    "    features = pd.concat([unique_count_item, sum_qty_weekday.drop(columns = id_cols), \n",
    "                          unique_count_brand.drop(columns = id_cols), sum_gmv.drop(columns = id_cols), \n",
    "                          sum_other_discount.drop(columns = id_cols), sum_coupon_discount.drop(columns = id_cols), \n",
    "                          order_qty_category.drop(columns = id_cols), first_txn.drop(columns = id_cols),\n",
    "                         count_coupon_used.drop(columns = id_cols), unique_count_order.drop(columns = id_cols)], axis = 1)\n",
    "    \n",
    "    features['cx_Established_coupon_affinity'] = features['cx_Established_coupon_used']/features['cx_Established_order_cnt']\n",
    "    features['cx_Local_coupon_affinity'] = features['cx_Local_coupon_used']/features['cx_Local_order_cnt']\n",
    "    \n",
    "    features['cx_Established_other_disc_per'] = features['cx_Established_other_disc']/(features['cx_Established_other_disc'] + features['cx_Established_coupon_disc'] + features['cx_Established_gmv'])\n",
    "    features['cx_Established_coupon_disc_per'] = features['cx_Established_coupon_disc']/(features['cx_Established_other_disc'] + features['cx_Established_coupon_disc'] + features['cx_Established_gmv'])\n",
    "    \n",
    "    features['cx_Local_other_disc_per'] = features['cx_Local_other_disc']/(features['cx_Local_other_disc'] + features['cx_Local_coupon_disc'] + features['cx_Local_gmv'])\n",
    "    features['cx_Local_coupon_disc_per'] = features['cx_Local_coupon_disc']/(features['cx_Local_other_disc'] + features['cx_Local_coupon_disc'] + features['cx_Local_gmv'])\n",
    "    \n",
    "    return features.fillna(0)   "
   ]
  },
  {
   "cell_type": "code",
   "execution_count": 13,
   "metadata": {
    "collapsed": true,
    "deletable": true,
    "editable": true
   },
   "outputs": [],
   "source": [
    "def item_txn(txn):\n",
    "    sum_features = txn.groupby('item_id')['selling_price', 'quantity','other_discount', 'coupon_discount'].sum().reset_index()\n",
    "    sum_features.columns = ['item_id', 'selling_price', 'quantity','other_discount', 'coupon_discount']\n",
    "    sum_features['avg_coupon_discount_per'] = sum_features['coupon_discount']/(sum_features['coupon_discount'] + sum_features['other_discount'] + sum_features['selling_price'])\n",
    "    sum_features['avg_other_discount_per'] = sum_features['other_discount']/(sum_features['coupon_discount'] + sum_features['other_discount'] + sum_features['selling_price'])\n",
    "    \n",
    "    order_count = txn.groupby('item_id')['date'].count().reset_index()\n",
    "    order_count.columns = ['item_id', 'orders']\n",
    "    \n",
    "    unique_customer_count = txn.groupby('item_id')['customer_id'].count().reset_index()\n",
    "    unique_customer_count.columns = ['item_id', 'unique_customer_id']\n",
    "    \n",
    "    coupon_discount_count = txn[txn.coupon_discount!=0].groupby('item_id')['coupon_discount'].count().reset_index()\n",
    "    coupon_discount_count.columns = ['item_id', 'coupon_discount_used']\n",
    "    \n",
    "    features = pd.concat([sum_features, order_count.drop(columns = ['item_id']), \n",
    "               unique_customer_count.drop(columns = ['item_id']), coupon_discount_count.drop(columns = ['item_id'])], axis = 1).fillna(0)\n",
    "    \n",
    "    return features"
   ]
  },
  {
   "cell_type": "code",
   "execution_count": 14,
   "metadata": {
    "collapsed": true,
    "deletable": true,
    "editable": true
   },
   "outputs": [],
   "source": [
    "def campaign_coupon_feature(coupon, txn):\n",
    "    \n",
    "    df = pd.merge(txn, coupon[['coupon_id','item_id']], on = 'item_id', how = 'left')\n",
    "    df = pd.merge(df, customer, on = 'customer_id', how = 'left')\n",
    "    id_cols = ['coupon_id']\n",
    "    \n",
    "    unique_item_count = pd.pivot_table(df, values = 'item_id', index=['coupon_id'], columns='brand_type', aggfunc='nunique', fill_value=0).reset_index().fillna(0)\n",
    "    unique_item_count.columns = ['coupon_id', 'cc_item_count_Estabilished', 'cc_item_count_Local']\n",
    "    \n",
    "    unique_brand_count = pd.pivot_table(df, values = 'brand', index=['coupon_id'], columns='brand_type', aggfunc='nunique', fill_value=0).reset_index().fillna(0)\n",
    "    unique_brand_count.columns = ['coupon_id', 'cc_brand_count_Estabilished', 'cc_brand_count_Local']\n",
    "    \n",
    "    mode_category = pd.pivot_table(df, values = 'category', index=['coupon_id'], columns='brand_type', aggfunc=lambda x:x.value_counts().index[0], fill_value=0).reset_index()\n",
    "    mode_category.columns = ['coupon_id', 'cc_frequent_cat_Estabilished', 'cc_frequent_cat_Local']\n",
    "    \n",
    "    avg_selling_price = pd.pivot_table(df, values = 'selling_price', index=['coupon_id'], columns='brand_type', aggfunc='mean', fill_value=0).reset_index().fillna(0)\n",
    "    avg_selling_price.columns = ['coupon_id', 'cc_avg_asp_Estabilished', 'cc_avg_asp_Local']\n",
    "    \n",
    "    avg_coupon_discount = pd.pivot_table(df, values = 'coupon_discount', index=['coupon_id'], columns='brand_type', aggfunc='mean', fill_value=0).reset_index().fillna(0)\n",
    "    avg_coupon_discount.columns = ['coupon_id', 'cc_coupon_discount_Estabilished', 'cc_coupon_discount_Local']\n",
    "    \n",
    "    unique_customers_count = pd.pivot_table(df, values = 'customer_id', index=['coupon_id'], columns='brand_type', aggfunc='nunique', fill_value=0).reset_index().fillna(0)\n",
    "    unique_customers_count.columns = ['coupon_id', 'cc_customers_Estabilished', 'cc_customers_Local']\n",
    "    \n",
    "    coupon_used = pd.pivot_table(df[df.coupon_discount!=0], values = 'coupon_discount', index=['coupon_id'], columns='brand_type', aggfunc='count', fill_value=0).reset_index().fillna(0)\n",
    "    #coupon_used.columns = ['coupon_id', 'cc_coupon_used_Estabilished', 'cc_coupon_used_Local']\n",
    "    coupon_used.columns = ['coupon_id'] + list(str('cc_coupon_used_') + coupon_used.columns[1:] )\n",
    "    \n",
    "    #mode_age = pd.pivot_table(df, values = 'age_range', index=['coupon_id'], columns='brand_type', aggfunc=lambda x:x.value_counts().index[0], fill_value=0).reset_index()\n",
    "    #mode_age.columns = ['coupon_id', 'cc_frequent_age_Estabilished', 'cc_frequent_age_Local']\n",
    "    \n",
    "    #mode_gender = pd.pivot_table(df, values = 'gender', index=['coupon_id'], columns='brand_type', aggfunc=lambda x:x.value_counts().index[0], fill_value=0).reset_index()\n",
    "    #mode_gender.columns = ['coupon_id', 'cc_frequent_gender_Estabilished', 'cc_frequent_gender_Local']\n",
    "    \n",
    "    #mode_marital_status = pd.pivot_table(df, values = 'marital_status', index=['coupon_id'], columns='brand_type', aggfunc=lambda x:x.value_counts().index[0], fill_value=0).reset_index()\n",
    "    #mode_marital_status.columns = ['coupon_id', 'cc_frequent_ms_Estabilished', 'cc_frequent_ms_Local']\n",
    "    \n",
    "    #mode_child = pd.pivot_table(df, values = 'no_of_children', index=['coupon_id'], columns='brand_type', aggfunc=lambda x:x.value_counts().index[0], fill_value=0).reset_index()\n",
    "    #mode_child.columns = ['coupon_id', 'cc_frequent_child_Estabilished', 'cc_frequent_child_Local']\n",
    "    \n",
    "    #mode_income = pd.pivot_table(df, values = 'income_bracket', index=['coupon_id'], columns='brand_type', aggfunc=lambda x:x.value_counts().index[0], fill_value=0).reset_index()\n",
    "    #mode_income.columns = ['coupon_id', 'cc_frequent_income_Estabilished', 'cc_frequent_income_Local']\n",
    "    \n",
    "    features = pd.concat([unique_item_count, unique_brand_count.drop(columns = id_cols), \n",
    "                          mode_category.drop(columns = id_cols), avg_selling_price.drop(columns = id_cols), \n",
    "                          avg_coupon_discount.drop(columns = id_cols), unique_customers_count.drop(columns = id_cols),\n",
    "                         coupon_used.drop(columns = id_cols)#, mode_age.drop(columns = id_cols), \n",
    "                          #mode_marital_status.drop(columns = id_cols), \n",
    "                          #mode_child, mode_income.drop(columns = id_cols)\n",
    "                         ], axis = 1)\n",
    "    \n",
    "    return features"
   ]
  },
  {
   "cell_type": "code",
   "execution_count": 15,
   "metadata": {
    "collapsed": true,
    "deletable": true,
    "editable": true
   },
   "outputs": [],
   "source": [
    "def txn_features(txn, campaign, coupon):\n",
    "    ccc_features = pd.DataFrame()\n",
    "    cx_features = pd.DataFrame()\n",
    "    cc_features = pd.DataFrame()\n",
    "\n",
    "    for c in campaign.campaign_id.unique():\n",
    "        txn2 = txn\n",
    "        start_date = campaign[campaign.campaign_id==c].iloc[0]['start_date']\n",
    "        end_date = campaign[campaign.campaign_id==c].iloc[0]['end_date']\n",
    "        \n",
    "        #txn2 = txn2[(txn2.date < (start_date - datetime.timedelta(days=110))) & (txn2.date > (start_date - datetime.timedelta(days=130)))]\n",
    "        txn2 = txn2[(txn2.date < (start_date - datetime.timedelta(days=110)))]\n",
    "        #txn2 = txn2[(txn2.date < start_date) & (txn2.date > (start_date - datetime.timedelta(days=220)))]\n",
    "        #txn2 = txn2[(txn2.date < start_date)]\n",
    "        \n",
    "        c_c_c_features = customer_campaign_coupon(txn2, coupon)\n",
    "        c_c_c_features['campaign_id'] = c\n",
    "        ccc_features = c_c_c_features.append(ccc_features)\n",
    "        \n",
    "        c_features = customer_txn(txn2)\n",
    "        c_features['Vintage'] = (start_date - c_features.first_txn_date)/np.timedelta64(1,'D')\n",
    "        c_features['days_since_last_txn'] = (start_date - c_features.last_txn_date)/np.timedelta64(1,'D')\n",
    "        c_features['campaign_id'] = c\n",
    "        cx_features = c_features.append(cx_features)\n",
    "        \n",
    "        #c_c_features = campaign_coupon_feature(coupon, item_txn(txn2))\n",
    "        c_c_features = campaign_coupon_feature(coupon, txn2)\n",
    "        c_c_features['campaign_id'] = c\n",
    "        cc_features = c_c_features.append(cc_features)\n",
    "    \n",
    "    return ccc_features, cx_features, cc_features"
   ]
  },
  {
   "cell_type": "code",
   "execution_count": 16,
   "metadata": {
    "collapsed": true,
    "deletable": true,
    "editable": true
   },
   "outputs": [],
   "source": [
    "def campaign_feature(campaign, campaign_coupon_item):\n",
    "    \n",
    "    campaign['campaign_days'] = (campaign.end_date - campaign.start_date)/np.timedelta64(1,'D')\n",
    "    campaign['campaign_weekends'] = [pd.date_range(x,y).weekday.isin([5,6]).sum() for x , y in zip(campaign.start_date,campaign.end_date)]\n",
    "    campaign['campaign_start_month'] = campaign.start_date.dt.month\n",
    "    \n",
    "    count_features = campaign_coupon_item.groupby('campaign_id')['coupon_id','item_id','brand','category'].nunique().reset_index()\n",
    "    count_features.columns = ['campaign_id', 'campaign_unique_coupon_cnt', 'campaign_unique_item_cnt', 'campaign_unique_brand_cnt', 'campaign_unique_category_cnt']\n",
    "    \n",
    "    mode_features = campaign_coupon_item.groupby(['campaign_id'])['coupon_id','item_id','brand','category'].agg(lambda x:x.value_counts().index[0]).reset_index()\n",
    "    mode_features.columns = ['campaign_id', 'campaign_coupon_id', 'campaign_item_mode', 'campaign_brand_mode', 'campaign_category_mode']\n",
    "    \n",
    "    \n",
    "    features = pd.merge(pd.merge(campaign, count_features, on = 'campaign_id', how = 'left'), mode_features, on = 'campaign_id', how = 'left')\n",
    "    \n",
    "    return features"
   ]
  },
  {
   "cell_type": "code",
   "execution_count": 17,
   "metadata": {
    "collapsed": false,
    "deletable": true,
    "editable": true
   },
   "outputs": [],
   "source": [
    "campaign_features = campaign_feature(campaign, pd.merge(campaign_coupon, coupon, on = 'coupon_id', how = 'left'))"
   ]
  },
  {
   "cell_type": "code",
   "execution_count": 18,
   "metadata": {
    "collapsed": false,
    "deletable": true,
    "editable": true
   },
   "outputs": [],
   "source": [
    "ccc_features, cx_features, cc_features  = txn_features(txn, campaign, coupon)"
   ]
  },
  {
   "cell_type": "code",
   "execution_count": 19,
   "metadata": {
    "collapsed": false,
    "deletable": true,
    "editable": true,
    "scrolled": true
   },
   "outputs": [],
   "source": [
    "campaign_overlap_features = campaign_overlap(campaign[['campaign_id', 'campaign_type', 'start_date', 'end_date']])"
   ]
  },
  {
   "cell_type": "code",
   "execution_count": 20,
   "metadata": {
    "collapsed": true,
    "deletable": true,
    "editable": true
   },
   "outputs": [],
   "source": [
    "customer_coupon_count_tr = train.groupby(['customer_id','campaign_id'])['coupon_id'].count().reset_index()\n",
    "customer_coupon_count_tr.columns = ['customer_id','campaign_id', 'customer_campaign_coupon_cnt']\n",
    "customer_coupon_count_ts = test.groupby(['customer_id','campaign_id'])['coupon_id'].count().reset_index()\n",
    "customer_coupon_count_ts.columns = ['customer_id','campaign_id', 'customer_campaign_coupon_cnt']"
   ]
  },
  {
   "cell_type": "code",
   "execution_count": 21,
   "metadata": {
    "collapsed": false,
    "deletable": true,
    "editable": true
   },
   "outputs": [],
   "source": [
    "tr = pd.merge(pd.merge(pd.merge(pd.merge(pd.merge(pd.merge(pd.merge(train, ccc_features.fillna(0), on = ['campaign_id','coupon_id','customer_id'], how = 'left'),\n",
    "                  cx_features, on = ['campaign_id','customer_id'], how = 'left'), \n",
    "         cc_features, on = ['coupon_id','campaign_id'], how = 'left'),\n",
    "                       campaign_features, on = ['campaign_id'], how = 'left'),\n",
    "              campaign_overlap_features, on = ['campaign_id'], how = 'left'), \n",
    "                       customer, on = ['customer_id'], how = 'left'), customer_coupon_count_tr, on = ['customer_id','campaign_id'], how = 'left')\n",
    "\n",
    "ts = pd.merge(pd.merge(pd.merge(pd.merge(pd.merge(pd.merge(pd.merge(test, ccc_features.fillna(0), on = ['campaign_id','coupon_id','customer_id'], how = 'left'),\n",
    "                  cx_features, on = ['campaign_id','customer_id'], how = 'left'), \n",
    "         cc_features, on = ['coupon_id','campaign_id'], how = 'left'),\n",
    "                       campaign_features, on = ['campaign_id'], how = 'left'),\n",
    "              campaign_overlap_features, on = ['campaign_id'], how = 'left'), \n",
    "                       customer, on = ['customer_id'], how = 'left'), customer_coupon_count_ts, on = ['customer_id','campaign_id'], how = 'left')"
   ]
  },
  {
   "cell_type": "code",
   "execution_count": 22,
   "metadata": {
    "collapsed": true,
    "deletable": true,
    "editable": true
   },
   "outputs": [],
   "source": [
    "def ratio(df):\n",
    "    \n",
    "    df['ratio_brand_cnt'] = df['ccc_Established_brand_cnt']/df['cx_Established_brand_cnt']\n",
    "    df['ratio_Established_coupon_disc_per'] = df['ccc_Established_coupon_disc_per']/df['cx_Established_coupon_disc_per']\n",
    "    df['ratio_Established_coupon_used'] = df['ccc_Established_coupon_used']/df['cx_Established_coupon_used']\n",
    "    df['ratio_Established_gmv'] = df['ccc_Established_gmv']/df['cx_Established_gmv']\n",
    "    df['ratio_Established_item_cnt'] = df['ccc_Established_item_cnt']/df['cx_Established_item_cnt']\n",
    "    df['ratio_Established_order_cnt'] = df['ccc_Established_order_cnt']/df['cx_Established_order_cnt']\n",
    "    df['ratio_Established_other_disc_per'] = df['ccc_Established_other_disc_per']/df['cx_Established_other_disc_per']\n",
    "    df['ratio_Local_brand_cnt'] = df['ccc_Local_brand_cnt']/df['cx_Local_brand_cnt']\n",
    "    df['ratio_Local_coupon_disc_per'] = df['ccc_Local_coupon_disc_per']/df['cx_Local_coupon_disc_per']\n",
    "    df['ratio_Local_coupon_used'] = df['ccc_Local_coupon_used']/df['cx_Local_coupon_used']\n",
    "    df['ratio_Local_gmv'] = df['ccc_Local_gmv']/df['cx_Local_gmv']\n",
    "    df['ratio_Local_item_cnt'] = df['ccc_Local_item_cnt']/df['cx_Local_item_cnt']\n",
    "    df['ratio_Local_order_cnt'] = df['ccc_Local_order_cnt']/df['cx_Local_order_cnt']\n",
    "    df['ratio_Local_other_disc_per'] = df['ccc_Local_other_disc_per']/df['cx_Local_other_disc_per']\n",
    "    df['ratio_total_qty'] = df['ccc_total_qty']/df['cx_total_qty']\n",
    "    \n",
    "    return df"
   ]
  },
  {
   "cell_type": "code",
   "execution_count": 23,
   "metadata": {
    "collapsed": true,
    "deletable": true,
    "editable": true
   },
   "outputs": [],
   "source": [
    "tr = ratio(tr)\n",
    "ts = ratio(ts)"
   ]
  },
  {
   "cell_type": "code",
   "execution_count": 24,
   "metadata": {
    "collapsed": false,
    "deletable": true,
    "editable": true
   },
   "outputs": [],
   "source": [
    "drop_cols = ['start_date', 'end_date', 'id', 'campaign_id', 'coupon_id', 'customer_id', 'redemption_status', \n",
    "             'first_txn_date', 'last_txn_date', 'campaign_item_mode', 'campaign_coupon_id', 'campaign_brand_mode']\n",
    "cat_cols = ['campaign_type','campaign_start_month','campaign_brand_mode', 'campaign_category_mode', \n",
    "            'cc_frequent_cat_Estabilished', 'cc_frequent_cat_Local', \n",
    "            'age_range', 'marital_status', 'rented', 'family_size','no_of_children', 'income_bracket','coupon_id',\n",
    "    'customer_id']\n",
    "feature_cols = [\n",
    "    'coupon_id',\n",
    "    'customer_id',\n",
    "'ccc_Established_brand_cnt',\n",
    "'ccc_Established_coupon_affinity',\n",
    "'ccc_Established_coupon_disc',\n",
    "'ccc_Established_coupon_disc_per',\n",
    "'ccc_Established_coupon_used',\n",
    "'ccc_Established_gmv',\n",
    "'ccc_Established_item_cnt',\n",
    "'ccc_Established_item_cnt_per',\n",
    "'ccc_Established_order_cnt',\n",
    "'ccc_Established_other_disc',\n",
    "'ccc_Established_other_disc_per',\n",
    "'ccc_Local_brand_cnt',\n",
    "'ccc_Local_coupon_affinity',\n",
    "'ccc_Local_coupon_disc',\n",
    "'ccc_Local_coupon_disc_per',\n",
    "'ccc_Local_coupon_used',\n",
    "'ccc_Local_gmv',\n",
    "'ccc_Local_item_cnt',\n",
    "'ccc_Local_order_cnt',\n",
    "'ccc_Local_other_disc',\n",
    "'ccc_Local_other_disc_per',\n",
    "'ccc_qty_per_Bakery',\n",
    "'ccc_qty_per_Dairy, Juices & Snacks',\n",
    "'ccc_qty_per_Flowers & Plants',\n",
    "'ccc_qty_per_Garden',\n",
    "'ccc_qty_per_Grocery',\n",
    "'ccc_qty_per_Meat',\n",
    "'ccc_qty_per_Miscellaneous',\n",
    "'ccc_qty_per_Natural Products',\n",
    "'ccc_qty_per_Packaged Meat',\n",
    "'ccc_qty_per_Pharmaceutical',\n",
    "'ccc_qty_per_Prepared Food',\n",
    "'ccc_qty_per_Restauarant',\n",
    "'ccc_qty_per_Salads',\n",
    "'ccc_qty_per_Seafood',\n",
    "'ccc_qty_per_Skin & Hair Care',\n",
    "'ccc_qty_per_Travel',\n",
    "'ccc_qty_per_Vegetables (cut)',\n",
    "'ccc_total_qty',\n",
    "'cx_Established_item_cnt',\n",
    "'cx_Local_item_cnt',\n",
    "'cx_Established_item_cnt_per',\n",
    "'cx_weekday_qty_cnt',\n",
    "'cx_weekend_qty_cnt',\n",
    "'cx_weekend_affinity',\n",
    "'cx_Established_brand_cnt',\n",
    "'cx_Local_brand_cnt',\n",
    "'cx_Established_gmv',\n",
    "'cx_Local_gmv',\n",
    "'cx_Established_gmv_per',\n",
    "'cx_Established_other_disc',\n",
    "'cx_Local_other_disc',\n",
    "'cx_Established_coupon_disc',\n",
    "'cx_Local_coupon_disc',\n",
    "'cx_total_qty',\n",
    "'cx_qty_per_Alcohol',\n",
    "'cx_qty_per_Bakery',\n",
    "'cx_qty_per_Dairy, Juices & Snacks',\n",
    "'cx_qty_per_Flowers & Plants',\n",
    "'cx_qty_per_Fuel',\n",
    "'cx_qty_per_Garden',\n",
    "'cx_qty_per_Grocery',\n",
    "'cx_qty_per_Meat',\n",
    "'cx_qty_per_Miscellaneous',\n",
    "'cx_qty_per_Natural Products',\n",
    "'cx_qty_per_Packaged Meat',\n",
    "'cx_qty_per_Pharmaceutical',\n",
    "'cx_qty_per_Prepared Food',\n",
    "'cx_qty_per_Restauarant',\n",
    "'cx_qty_per_Salads',\n",
    "'cx_qty_per_Seafood',\n",
    "'cx_qty_per_Skin & Hair Care',\n",
    "'cx_qty_per_Travel',\n",
    "'cx_qty_per_Vegetables (cut)',\n",
    "'cx_Established_coupon_used',\n",
    "'cx_Local_coupon_used',\n",
    "'cx_Established_order_cnt',\n",
    "'cx_Local_order_cnt',\n",
    "'cx_Established_coupon_affinity',\n",
    "'cx_Local_coupon_affinity',\n",
    "'cx_Established_other_disc_per',\n",
    "'cx_Established_coupon_disc_per',\n",
    "'cx_Local_other_disc_per',\n",
    "'cx_Local_coupon_disc_per',\n",
    "'Vintage',\n",
    "'days_since_last_txn',\n",
    "'cc_item_count_Estabilished',\n",
    "'cc_item_count_Local',\n",
    "'cc_brand_count_Estabilished',\n",
    "'cc_brand_count_Local',\n",
    "'cc_frequent_cat_Estabilished',\n",
    "'cc_frequent_cat_Local',\n",
    "'cc_avg_asp_Estabilished',\n",
    "'cc_avg_asp_Local',\n",
    "'cc_coupon_discount_Estabilished',\n",
    "'cc_coupon_discount_Local',\n",
    "'cc_customers_Estabilished',\n",
    "'cc_customers_Local',\n",
    "'cc_coupon_used_Established',\n",
    "'cc_coupon_used_Local',\n",
    "'campaign_type',\n",
    "'campaign_days',\n",
    "'campaign_weekends',\n",
    "'campaign_start_month',\n",
    "'campaign_unique_coupon_cnt',\n",
    "'campaign_unique_item_cnt',\n",
    "'campaign_unique_brand_cnt',\n",
    "'campaign_unique_category_cnt',\n",
    "'campaign_coupon_id',\n",
    "'campaign_item_mode',\n",
    "'campaign_brand_mode',\n",
    "'campaign_category_mode',\n",
    "'x_overlap_count',\n",
    "'y_overlap_count',\n",
    "'x_max_overlap_days',\n",
    "'y_max_overlap_days',\n",
    "'age_range',\n",
    "'marital_status',\n",
    "'rented',\n",
    "'family_size',\n",
    "'no_of_children',\n",
    "'income_bracket',\n",
    "'ratio_brand_cnt',\n",
    "'ratio_Established_coupon_disc_per',\n",
    "'ratio_Established_coupon_used',\n",
    "'ratio_Established_gmv',\n",
    "'ratio_Established_item_cnt',\n",
    "'ratio_Established_order_cnt',\n",
    "'ratio_Established_other_disc_per',\n",
    "'ratio_Local_brand_cnt',\n",
    "'ratio_Local_coupon_disc_per',\n",
    "'ratio_Local_coupon_used',\n",
    "'ratio_Local_gmv',\n",
    "'ratio_Local_item_cnt',\n",
    "'ratio_Local_order_cnt',\n",
    "'ratio_Local_other_disc_per',\n",
    "'ratio_total_qty']\n",
    "drop_features = ['income_bracket',\n",
    "                'family_size',\n",
    "                 'rented',\n",
    "                 'cc_avg_asp_Estabilished',\n",
    "                 'ccc_Established_gmv',\n",
    "                 'cx_qty_per_Prepared Food',\n",
    "                 'cx_Established_brand_cnt',\n",
    "                 'campaign_unique_brand_cnt',\n",
    "                 'cx_Established_coupon_disc',\n",
    "                 'coupon_id','customer_id',\n",
    "                 #'campaign_start_month',\n",
    "\n",
    "                 'x_max_overlap_days'\n",
    "                 #'ccc_qty_per_Bakery'\n",
    "                 #'ratio_total_qty',\n",
    "                 #'ratio_Established_coupon_used'\n",
    "                 #'ratio_Established_order_cnt'#,\n",
    "                 #'cx_Established_gmv_per',\n",
    "                 #'campaign_unique_category_cnt'\n",
    "                 #'cc_avg_asp_Local'\n",
    "                 #'ccc_Established_item_cnt'\n",
    "                 #'ratio_Local_other_disc_per'\n",
    "                ]"
   ]
  },
  {
   "cell_type": "code",
   "execution_count": 25,
   "metadata": {
    "collapsed": true,
    "deletable": true,
    "editable": true
   },
   "outputs": [],
   "source": [
    "for col in cat_cols:\n",
    "    tr[col] = tr[col].astype('category')\n",
    "    ts[col] = ts[col].astype('category')"
   ]
  },
  {
   "cell_type": "code",
   "execution_count": 26,
   "metadata": {
    "collapsed": true,
    "deletable": true,
    "editable": true
   },
   "outputs": [],
   "source": [
    "tr2 = tr"
   ]
  },
  {
   "cell_type": "code",
   "execution_count": 27,
   "metadata": {
    "collapsed": false,
    "deletable": true,
    "editable": true
   },
   "outputs": [],
   "source": [
    "dev, oot = train_test_split(tr2, stratify=tr2.campaign_id, test_size=0.20, random_state=444)\n",
    "dev, val = train_test_split(dev, stratify=dev.campaign_id, test_size=0.20, random_state=1)"
   ]
  },
  {
   "cell_type": "code",
   "execution_count": 28,
   "metadata": {
    "collapsed": false,
    "deletable": true,
    "editable": true
   },
   "outputs": [],
   "source": [
    "params = {\"objective\": \"binary\",\n",
    "            \"max_bin\": 50,\n",
    "            \"metric\": \"auc\",\n",
    "            \"boosting\": \"gbdt\",\n",
    "            \"num_leaves\": 7,\n",
    "            \"max_depth\": -1,\n",
    "            \"min_child_weight\": 60,\n",
    "            \"learning_rate\": 0.01,\n",
    "            \"bagging_fraction\": 0.5,\n",
    "            \"feature_fraction\": 0.4,\n",
    "            \"bagging_frequency\": 5,\n",
    "            \"bagging_seed\": 101,\n",
    "            \"random_seed\": 101}\n",
    "#.drop(columns = drop_features)\n",
    "lgdev = lgb.Dataset(dev[feature_cols].drop(columns = drop_features), label=dev.redemption_status)\n",
    "lgval = lgb.Dataset(val[feature_cols].drop(columns = drop_features), label=val.redemption_status)\n",
    "lgoot = lgb.Dataset(oot[feature_cols].drop(columns = drop_features), label=oot.redemption_status)\n",
    "    \n",
    "evals_result = {}\n",
    "model = lgb.train(params, lgdev, 20000, valid_sets=[lgval], early_stopping_rounds=50, verbose_eval=None, evals_result=evals_result)\n",
    "    \n",
    "pred_dev_y = model.predict(dev[feature_cols].drop(columns = drop_features), num_iteration=model.best_iteration)\n",
    "pred_val_y = model.predict(val[feature_cols].drop(columns = drop_features), num_iteration=model.best_iteration)\n",
    "pred_oot_y = model.predict(oot[feature_cols].drop(columns = drop_features), num_iteration=model.best_iteration)\n",
    "pred_ts = model.predict(ts[feature_cols].drop(columns = drop_features), num_iteration=model.best_iteration)"
   ]
  },
  {
   "cell_type": "code",
   "execution_count": 29,
   "metadata": {
    "collapsed": false,
    "deletable": true,
    "editable": true
   },
   "outputs": [
    {
     "name": "stdout",
     "output_type": "stream",
     "text": [
      "0.963182424304\n",
      "0.932139756195\n",
      "0.930019897016\n"
     ]
    }
   ],
   "source": [
    "print(roc_auc_score(dev.redemption_status, pred_dev_y))\n",
    "print(roc_auc_score(val.redemption_status, pred_val_y))\n",
    "print(roc_auc_score(oot.redemption_status, pred_oot_y))"
   ]
  },
  {
   "cell_type": "code",
   "execution_count": null,
   "metadata": {
    "collapsed": true,
    "deletable": true,
    "editable": true
   },
   "outputs": [],
   "source": [
    "submission = pd.DataFrame({\"id\":ts.id, 'redemption_status':pred_ts})\n",
    "submission.to_csv(\"ultimate.csv\", index = False)"
   ]
  },
  {
   "cell_type": "code",
   "execution_count": null,
   "metadata": {
    "collapsed": false,
    "deletable": true,
    "editable": true,
    "scrolled": true
   },
   "outputs": [],
   "source": [
    "result = pd.DataFrame()\n",
    "#.drop(columns = drop_features).columns\n",
    "for c in tr[feature_cols].drop(columns = drop_features).columns:\n",
    "    #c = ['unique_coupon_brand']\n",
    "    lgdev = lgb.Dataset(dev[feature_cols].drop(columns = drop_features).drop(columns = c), label=dev.redemption_status)\n",
    "    lgval = lgb.Dataset(val[feature_cols].drop(columns = drop_features).drop(columns = c), label=val.redemption_status)\n",
    "\n",
    "    evals_result = {}\n",
    "    model = lgb.train(params, lgdev, 20000, valid_sets=[lgval], early_stopping_rounds=50, verbose_eval=None, evals_result=evals_result)\n",
    "\n",
    "    pred_dev_y = model.predict(dev[feature_cols].drop(columns = drop_features).drop(columns = c), num_iteration=model.best_iteration)\n",
    "    pred_val_y = model.predict(val[feature_cols].drop(columns = drop_features).drop(columns = c), num_iteration=model.best_iteration)\n",
    "    pred_oot_y = model.predict(oot[feature_cols].drop(columns = drop_features).drop(columns = c), num_iteration=model.best_iteration)\n",
    "    \n",
    "    result.loc[c,'dev_auc'] = roc_auc_score(dev.redemption_status, pred_dev_y)\n",
    "    result.loc[c,'val_auc'] = roc_auc_score(val.redemption_status, pred_val_y)\n",
    "    result.loc[c,'oot_auc'] = roc_auc_score(oot.redemption_status, pred_oot_y)\n",
    "    \n",
    "    print(\"Columns\", c)\n",
    "    print(\"dev auc :\",roc_auc_score(dev.redemption_status, pred_dev_y))\n",
    "    print(\"val auc :\",roc_auc_score(val.redemption_status, pred_val_y))\n",
    "    print(\"oot auc :\",roc_auc_score(oot.redemption_status, pred_oot_y))\n",
    "    print(\"\")"
   ]
  }
 ],
 "metadata": {
  "kernelspec": {
   "display_name": "Python 3",
   "language": "python",
   "name": "python3"
  },
  "language_info": {
   "codemirror_mode": {
    "name": "ipython",
    "version": 3
   },
   "file_extension": ".py",
   "mimetype": "text/x-python",
   "name": "python",
   "nbconvert_exporter": "python",
   "pygments_lexer": "ipython3",
   "version": "3.5.2"
  }
 },
 "nbformat": 4,
 "nbformat_minor": 2
}
