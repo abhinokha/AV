{
 "cells": [
  {
   "cell_type": "code",
   "execution_count": 1,
   "metadata": {},
   "outputs": [],
   "source": [
    "import os\n",
    "import json\n",
    "import numpy as np\n",
    "import pandas as pd\n",
    "from pandas.io.json import json_normalize\n",
    "import matplotlib.pyplot as plt\n",
    "import seaborn as sns\n",
    "color = sns.color_palette()\n",
    "\n",
    "%matplotlib inline\n",
    "\n",
    "\n",
    "from sklearn import model_selection, preprocessing, metrics\n",
    "import lightgbm as lgb\n",
    "\n",
    "pd.options.mode.chained_assignment = None\n",
    "pd.options.display.max_columns = 999\n",
    "import os\n",
    "os.environ['KMP_DUPLICATE_LIB_OK']='True'"
   ]
  },
  {
   "cell_type": "code",
   "execution_count": 2,
   "metadata": {},
   "outputs": [],
   "source": [
    "train = pd.read_csv(\"train/train.csv\")"
   ]
  },
  {
   "cell_type": "code",
   "execution_count": 3,
   "metadata": {},
   "outputs": [],
   "source": [
    "test = pd.read_csv(\"test.csv\")"
   ]
  },
  {
   "cell_type": "code",
   "execution_count": 4,
   "metadata": {},
   "outputs": [
    {
     "data": {
      "text/html": [
       "<div>\n",
       "<style scoped>\n",
       "    .dataframe tbody tr th:only-of-type {\n",
       "        vertical-align: middle;\n",
       "    }\n",
       "\n",
       "    .dataframe tbody tr th {\n",
       "        vertical-align: top;\n",
       "    }\n",
       "\n",
       "    .dataframe thead th {\n",
       "        text-align: right;\n",
       "    }\n",
       "</style>\n",
       "<table border=\"1\" class=\"dataframe\">\n",
       "  <thead>\n",
       "    <tr style=\"text-align: right;\">\n",
       "      <th></th>\n",
       "      <th>id</th>\n",
       "      <th>week</th>\n",
       "      <th>center_id</th>\n",
       "      <th>meal_id</th>\n",
       "      <th>checkout_price</th>\n",
       "      <th>base_price</th>\n",
       "      <th>emailer_for_promotion</th>\n",
       "      <th>homepage_featured</th>\n",
       "      <th>num_orders</th>\n",
       "    </tr>\n",
       "  </thead>\n",
       "  <tbody>\n",
       "    <tr>\n",
       "      <th>0</th>\n",
       "      <td>1379560</td>\n",
       "      <td>1</td>\n",
       "      <td>55</td>\n",
       "      <td>1885</td>\n",
       "      <td>136.83</td>\n",
       "      <td>152.29</td>\n",
       "      <td>0</td>\n",
       "      <td>0</td>\n",
       "      <td>177</td>\n",
       "    </tr>\n",
       "    <tr>\n",
       "      <th>1</th>\n",
       "      <td>1466964</td>\n",
       "      <td>1</td>\n",
       "      <td>55</td>\n",
       "      <td>1993</td>\n",
       "      <td>136.83</td>\n",
       "      <td>135.83</td>\n",
       "      <td>0</td>\n",
       "      <td>0</td>\n",
       "      <td>270</td>\n",
       "    </tr>\n",
       "    <tr>\n",
       "      <th>2</th>\n",
       "      <td>1346989</td>\n",
       "      <td>1</td>\n",
       "      <td>55</td>\n",
       "      <td>2539</td>\n",
       "      <td>134.86</td>\n",
       "      <td>135.86</td>\n",
       "      <td>0</td>\n",
       "      <td>0</td>\n",
       "      <td>189</td>\n",
       "    </tr>\n",
       "    <tr>\n",
       "      <th>3</th>\n",
       "      <td>1338232</td>\n",
       "      <td>1</td>\n",
       "      <td>55</td>\n",
       "      <td>2139</td>\n",
       "      <td>339.50</td>\n",
       "      <td>437.53</td>\n",
       "      <td>0</td>\n",
       "      <td>0</td>\n",
       "      <td>54</td>\n",
       "    </tr>\n",
       "    <tr>\n",
       "      <th>4</th>\n",
       "      <td>1448490</td>\n",
       "      <td>1</td>\n",
       "      <td>55</td>\n",
       "      <td>2631</td>\n",
       "      <td>243.50</td>\n",
       "      <td>242.50</td>\n",
       "      <td>0</td>\n",
       "      <td>0</td>\n",
       "      <td>40</td>\n",
       "    </tr>\n",
       "  </tbody>\n",
       "</table>\n",
       "</div>"
      ],
      "text/plain": [
       "        id  week  center_id  meal_id  checkout_price  base_price  \\\n",
       "0  1379560     1         55     1885          136.83      152.29   \n",
       "1  1466964     1         55     1993          136.83      135.83   \n",
       "2  1346989     1         55     2539          134.86      135.86   \n",
       "3  1338232     1         55     2139          339.50      437.53   \n",
       "4  1448490     1         55     2631          243.50      242.50   \n",
       "\n",
       "   emailer_for_promotion  homepage_featured  num_orders  \n",
       "0                      0                  0         177  \n",
       "1                      0                  0         270  \n",
       "2                      0                  0         189  \n",
       "3                      0                  0          54  \n",
       "4                      0                  0          40  "
      ]
     },
     "execution_count": 4,
     "metadata": {},
     "output_type": "execute_result"
    }
   ],
   "source": [
    "train.head()"
   ]
  },
  {
   "cell_type": "code",
   "execution_count": 5,
   "metadata": {},
   "outputs": [
    {
     "data": {
      "text/plain": [
       "id                       0\n",
       "week                     0\n",
       "center_id                0\n",
       "meal_id                  0\n",
       "checkout_price           0\n",
       "base_price               0\n",
       "emailer_for_promotion    0\n",
       "homepage_featured        0\n",
       "num_orders               0\n",
       "dtype: int64"
      ]
     },
     "execution_count": 5,
     "metadata": {},
     "output_type": "execute_result"
    }
   ],
   "source": [
    "train.isna().sum()"
   ]
  },
  {
   "cell_type": "code",
   "execution_count": 6,
   "metadata": {},
   "outputs": [
    {
     "data": {
      "text/plain": [
       "array([  1,   2,   3,   4,   5,   6,   7,   8,   9,  10,  11,  12,  13,\n",
       "        14,  15,  16,  17,  18,  19,  20,  21,  22,  23,  24,  25,  26,\n",
       "        27,  28,  29,  30,  31,  32,  33,  34,  35,  36,  37,  38,  39,\n",
       "        40,  41,  42,  43,  44,  45,  46,  47,  48,  49,  50,  51,  52,\n",
       "        53,  54,  55,  56,  57,  58,  59,  60,  61,  62,  63,  64,  65,\n",
       "        66,  67,  68,  69,  70,  71,  72,  73,  74,  75,  76,  77,  78,\n",
       "        79,  80,  81,  82,  83,  84,  85,  86,  87,  88,  89,  90,  91,\n",
       "        92,  93,  94,  95,  96,  97,  98,  99, 100, 101, 102, 103, 104,\n",
       "       105, 106, 107, 108, 109, 110, 111, 112, 113, 114, 115, 116, 117,\n",
       "       118, 119, 120, 121, 122, 123, 124, 125, 126, 127, 128, 129, 130,\n",
       "       131, 132, 133, 134, 135, 136, 137, 138, 139, 140, 141, 142, 143,\n",
       "       144, 145])"
      ]
     },
     "execution_count": 6,
     "metadata": {},
     "output_type": "execute_result"
    }
   ],
   "source": [
    "train['week'].unique()"
   ]
  },
  {
   "cell_type": "code",
   "execution_count": 7,
   "metadata": {},
   "outputs": [
    {
     "data": {
      "image/png": "[encoded data removed]",
      "text/plain": [
       "<Figure size 576x432 with 1 Axes>"
      ]
     },
     "metadata": {
      "needs_background": "light"
     },
     "output_type": "display_data"
    }
   ],
   "source": [
    "target_col = \"num_orders\"\n",
    "\n",
    "plt.figure(figsize=(8,6))\n",
    "plt.scatter(range(train.shape[0]), np.sort(np.log(train[target_col].values)))\n",
    "plt.xlabel('index', fontsize=12)\n",
    "plt.ylabel('num_orders', fontsize=12)\n",
    "plt.show()"
   ]
  },
  {
   "cell_type": "code",
   "execution_count": 8,
   "metadata": {},
   "outputs": [
    {
     "data": {
      "image/png": "[encoded data removed]",
      "text/plain": [
       "<Figure size 864x576 with 1 Axes>"
      ]
     },
     "metadata": {
      "needs_background": "light"
     },
     "output_type": "display_data"
    }
   ],
   "source": [
    "plt.figure(figsize=(12,8))\n",
    "sns.distplot(train[target_col].values, bins=10, kde=False, color=\"red\")\n",
    "plt.title(\"Histogram\")\n",
    "plt.xlabel('Number of orders', fontsize=12)\n",
    "plt.show()"
   ]
  },
  {
   "cell_type": "code",
   "execution_count": 9,
   "metadata": {},
   "outputs": [],
   "source": [
    "meal = pd.read_csv(\"train/meal_info.csv\")\n",
    "center = pd.read_csv(\"train/fulfilment_center_info.csv\")"
   ]
  },
  {
   "cell_type": "code",
   "execution_count": 10,
   "metadata": {},
   "outputs": [
    {
     "data": {
      "text/html": [
       "<div>\n",
       "<style scoped>\n",
       "    .dataframe tbody tr th:only-of-type {\n",
       "        vertical-align: middle;\n",
       "    }\n",
       "\n",
       "    .dataframe tbody tr th {\n",
       "        vertical-align: top;\n",
       "    }\n",
       "\n",
       "    .dataframe thead th {\n",
       "        text-align: right;\n",
       "    }\n",
       "</style>\n",
       "<table border=\"1\" class=\"dataframe\">\n",
       "  <thead>\n",
       "    <tr style=\"text-align: right;\">\n",
       "      <th></th>\n",
       "      <th>meal_id</th>\n",
       "      <th>category</th>\n",
       "      <th>cuisine</th>\n",
       "    </tr>\n",
       "  </thead>\n",
       "  <tbody>\n",
       "    <tr>\n",
       "      <th>0</th>\n",
       "      <td>1885</td>\n",
       "      <td>Beverages</td>\n",
       "      <td>Thai</td>\n",
       "    </tr>\n",
       "    <tr>\n",
       "      <th>1</th>\n",
       "      <td>1993</td>\n",
       "      <td>Beverages</td>\n",
       "      <td>Thai</td>\n",
       "    </tr>\n",
       "    <tr>\n",
       "      <th>2</th>\n",
       "      <td>2539</td>\n",
       "      <td>Beverages</td>\n",
       "      <td>Thai</td>\n",
       "    </tr>\n",
       "    <tr>\n",
       "      <th>3</th>\n",
       "      <td>1248</td>\n",
       "      <td>Beverages</td>\n",
       "      <td>Indian</td>\n",
       "    </tr>\n",
       "    <tr>\n",
       "      <th>4</th>\n",
       "      <td>2631</td>\n",
       "      <td>Beverages</td>\n",
       "      <td>Indian</td>\n",
       "    </tr>\n",
       "  </tbody>\n",
       "</table>\n",
       "</div>"
      ],
      "text/plain": [
       "   meal_id   category cuisine\n",
       "0     1885  Beverages    Thai\n",
       "1     1993  Beverages    Thai\n",
       "2     2539  Beverages    Thai\n",
       "3     1248  Beverages  Indian\n",
       "4     2631  Beverages  Indian"
      ]
     },
     "execution_count": 10,
     "metadata": {},
     "output_type": "execute_result"
    }
   ],
   "source": [
    "meal.head()"
   ]
  },
  {
   "cell_type": "code",
   "execution_count": 11,
   "metadata": {},
   "outputs": [
    {
     "data": {
      "text/html": [
       "<div>\n",
       "<style scoped>\n",
       "    .dataframe tbody tr th:only-of-type {\n",
       "        vertical-align: middle;\n",
       "    }\n",
       "\n",
       "    .dataframe tbody tr th {\n",
       "        vertical-align: top;\n",
       "    }\n",
       "\n",
       "    .dataframe thead th {\n",
       "        text-align: right;\n",
       "    }\n",
       "</style>\n",
       "<table border=\"1\" class=\"dataframe\">\n",
       "  <thead>\n",
       "    <tr style=\"text-align: right;\">\n",
       "      <th></th>\n",
       "      <th>center_id</th>\n",
       "      <th>city_code</th>\n",
       "      <th>region_code</th>\n",
       "      <th>center_type</th>\n",
       "      <th>op_area</th>\n",
       "    </tr>\n",
       "  </thead>\n",
       "  <tbody>\n",
       "    <tr>\n",
       "      <th>0</th>\n",
       "      <td>11</td>\n",
       "      <td>679</td>\n",
       "      <td>56</td>\n",
       "      <td>TYPE_A</td>\n",
       "      <td>3.7</td>\n",
       "    </tr>\n",
       "    <tr>\n",
       "      <th>1</th>\n",
       "      <td>13</td>\n",
       "      <td>590</td>\n",
       "      <td>56</td>\n",
       "      <td>TYPE_B</td>\n",
       "      <td>6.7</td>\n",
       "    </tr>\n",
       "    <tr>\n",
       "      <th>2</th>\n",
       "      <td>124</td>\n",
       "      <td>590</td>\n",
       "      <td>56</td>\n",
       "      <td>TYPE_C</td>\n",
       "      <td>4.0</td>\n",
       "    </tr>\n",
       "    <tr>\n",
       "      <th>3</th>\n",
       "      <td>66</td>\n",
       "      <td>648</td>\n",
       "      <td>34</td>\n",
       "      <td>TYPE_A</td>\n",
       "      <td>4.1</td>\n",
       "    </tr>\n",
       "    <tr>\n",
       "      <th>4</th>\n",
       "      <td>94</td>\n",
       "      <td>632</td>\n",
       "      <td>34</td>\n",
       "      <td>TYPE_C</td>\n",
       "      <td>3.6</td>\n",
       "    </tr>\n",
       "  </tbody>\n",
       "</table>\n",
       "</div>"
      ],
      "text/plain": [
       "   center_id  city_code  region_code center_type  op_area\n",
       "0         11        679           56      TYPE_A      3.7\n",
       "1         13        590           56      TYPE_B      6.7\n",
       "2        124        590           56      TYPE_C      4.0\n",
       "3         66        648           34      TYPE_A      4.1\n",
       "4         94        632           34      TYPE_C      3.6"
      ]
     },
     "execution_count": 11,
     "metadata": {},
     "output_type": "execute_result"
    }
   ],
   "source": [
    "center.head()"
   ]
  },
  {
   "cell_type": "code",
   "execution_count": 12,
   "metadata": {},
   "outputs": [],
   "source": [
    "train['discount'] = train['base_price'] - train['checkout_price']"
   ]
  },
  {
   "cell_type": "code",
   "execution_count": 13,
   "metadata": {},
   "outputs": [],
   "source": [
    "train['discount_per'] = train['discount'] / train['base_price']"
   ]
  },
  {
   "cell_type": "code",
   "execution_count": 14,
   "metadata": {},
   "outputs": [],
   "source": [
    "test['discount'] = test['base_price'] - test['checkout_price']\n",
    "test['discount_per'] = test['discount'] / test['base_price']"
   ]
  },
  {
   "cell_type": "code",
   "execution_count": 15,
   "metadata": {},
   "outputs": [],
   "source": [
    "train_df = train.merge(meal, on = 'meal_id', how = 'left').merge(center, on = 'center_id', how = 'left')\n",
    "test_df = test.merge(meal, on = 'meal_id', how = 'left').merge(center, on = 'center_id', how = 'left')"
   ]
  },
  {
   "cell_type": "code",
   "execution_count": 16,
   "metadata": {},
   "outputs": [
    {
     "data": {
      "text/html": [
       "<div>\n",
       "<style scoped>\n",
       "    .dataframe tbody tr th:only-of-type {\n",
       "        vertical-align: middle;\n",
       "    }\n",
       "\n",
       "    .dataframe tbody tr th {\n",
       "        vertical-align: top;\n",
       "    }\n",
       "\n",
       "    .dataframe thead th {\n",
       "        text-align: right;\n",
       "    }\n",
       "</style>\n",
       "<table border=\"1\" class=\"dataframe\">\n",
       "  <thead>\n",
       "    <tr style=\"text-align: right;\">\n",
       "      <th></th>\n",
       "      <th>id</th>\n",
       "      <th>week</th>\n",
       "      <th>center_id</th>\n",
       "      <th>meal_id</th>\n",
       "      <th>checkout_price</th>\n",
       "      <th>base_price</th>\n",
       "      <th>emailer_for_promotion</th>\n",
       "      <th>homepage_featured</th>\n",
       "      <th>num_orders</th>\n",
       "      <th>discount</th>\n",
       "      <th>discount_per</th>\n",
       "      <th>category</th>\n",
       "      <th>cuisine</th>\n",
       "      <th>city_code</th>\n",
       "      <th>region_code</th>\n",
       "      <th>center_type</th>\n",
       "      <th>op_area</th>\n",
       "    </tr>\n",
       "  </thead>\n",
       "  <tbody>\n",
       "    <tr>\n",
       "      <th>0</th>\n",
       "      <td>1379560</td>\n",
       "      <td>1</td>\n",
       "      <td>55</td>\n",
       "      <td>1885</td>\n",
       "      <td>136.83</td>\n",
       "      <td>152.29</td>\n",
       "      <td>0</td>\n",
       "      <td>0</td>\n",
       "      <td>177</td>\n",
       "      <td>15.46</td>\n",
       "      <td>0.101517</td>\n",
       "      <td>Beverages</td>\n",
       "      <td>Thai</td>\n",
       "      <td>647</td>\n",
       "      <td>56</td>\n",
       "      <td>TYPE_C</td>\n",
       "      <td>2.0</td>\n",
       "    </tr>\n",
       "    <tr>\n",
       "      <th>1</th>\n",
       "      <td>1466964</td>\n",
       "      <td>1</td>\n",
       "      <td>55</td>\n",
       "      <td>1993</td>\n",
       "      <td>136.83</td>\n",
       "      <td>135.83</td>\n",
       "      <td>0</td>\n",
       "      <td>0</td>\n",
       "      <td>270</td>\n",
       "      <td>-1.00</td>\n",
       "      <td>-0.007362</td>\n",
       "      <td>Beverages</td>\n",
       "      <td>Thai</td>\n",
       "      <td>647</td>\n",
       "      <td>56</td>\n",
       "      <td>TYPE_C</td>\n",
       "      <td>2.0</td>\n",
       "    </tr>\n",
       "    <tr>\n",
       "      <th>2</th>\n",
       "      <td>1346989</td>\n",
       "      <td>1</td>\n",
       "      <td>55</td>\n",
       "      <td>2539</td>\n",
       "      <td>134.86</td>\n",
       "      <td>135.86</td>\n",
       "      <td>0</td>\n",
       "      <td>0</td>\n",
       "      <td>189</td>\n",
       "      <td>1.00</td>\n",
       "      <td>0.007361</td>\n",
       "      <td>Beverages</td>\n",
       "      <td>Thai</td>\n",
       "      <td>647</td>\n",
       "      <td>56</td>\n",
       "      <td>TYPE_C</td>\n",
       "      <td>2.0</td>\n",
       "    </tr>\n",
       "    <tr>\n",
       "      <th>3</th>\n",
       "      <td>1338232</td>\n",
       "      <td>1</td>\n",
       "      <td>55</td>\n",
       "      <td>2139</td>\n",
       "      <td>339.50</td>\n",
       "      <td>437.53</td>\n",
       "      <td>0</td>\n",
       "      <td>0</td>\n",
       "      <td>54</td>\n",
       "      <td>98.03</td>\n",
       "      <td>0.224053</td>\n",
       "      <td>Beverages</td>\n",
       "      <td>Indian</td>\n",
       "      <td>647</td>\n",
       "      <td>56</td>\n",
       "      <td>TYPE_C</td>\n",
       "      <td>2.0</td>\n",
       "    </tr>\n",
       "    <tr>\n",
       "      <th>4</th>\n",
       "      <td>1448490</td>\n",
       "      <td>1</td>\n",
       "      <td>55</td>\n",
       "      <td>2631</td>\n",
       "      <td>243.50</td>\n",
       "      <td>242.50</td>\n",
       "      <td>0</td>\n",
       "      <td>0</td>\n",
       "      <td>40</td>\n",
       "      <td>-1.00</td>\n",
       "      <td>-0.004124</td>\n",
       "      <td>Beverages</td>\n",
       "      <td>Indian</td>\n",
       "      <td>647</td>\n",
       "      <td>56</td>\n",
       "      <td>TYPE_C</td>\n",
       "      <td>2.0</td>\n",
       "    </tr>\n",
       "  </tbody>\n",
       "</table>\n",
       "</div>"
      ],
      "text/plain": [
       "        id  week  center_id  meal_id  checkout_price  base_price  \\\n",
       "0  1379560     1         55     1885          136.83      152.29   \n",
       "1  1466964     1         55     1993          136.83      135.83   \n",
       "2  1346989     1         55     2539          134.86      135.86   \n",
       "3  1338232     1         55     2139          339.50      437.53   \n",
       "4  1448490     1         55     2631          243.50      242.50   \n",
       "\n",
       "   emailer_for_promotion  homepage_featured  num_orders  discount  \\\n",
       "0                      0                  0         177     15.46   \n",
       "1                      0                  0         270     -1.00   \n",
       "2                      0                  0         189      1.00   \n",
       "3                      0                  0          54     98.03   \n",
       "4                      0                  0          40     -1.00   \n",
       "\n",
       "   discount_per   category cuisine  city_code  region_code center_type  \\\n",
       "0      0.101517  Beverages    Thai        647           56      TYPE_C   \n",
       "1     -0.007362  Beverages    Thai        647           56      TYPE_C   \n",
       "2      0.007361  Beverages    Thai        647           56      TYPE_C   \n",
       "3      0.224053  Beverages  Indian        647           56      TYPE_C   \n",
       "4     -0.004124  Beverages  Indian        647           56      TYPE_C   \n",
       "\n",
       "   op_area  \n",
       "0      2.0  \n",
       "1      2.0  \n",
       "2      2.0  \n",
       "3      2.0  \n",
       "4      2.0  "
      ]
     },
     "execution_count": 16,
     "metadata": {},
     "output_type": "execute_result"
    }
   ],
   "source": [
    "train_df.head()"
   ]
  },
  {
   "cell_type": "code",
   "execution_count": 17,
   "metadata": {},
   "outputs": [],
   "source": [
    "from sklearn.preprocessing import LabelEncoder"
   ]
  },
  {
   "cell_type": "code",
   "execution_count": 18,
   "metadata": {},
   "outputs": [
    {
     "name": "stdout",
     "output_type": "stream",
     "text": [
      "Categorical Variable: category, No. Categories: 14\n",
      "Categorical Variable: cuisine, No. Categories: 4\n",
      "Categorical Variable: center_type, No. Categories: 3\n"
     ]
    }
   ],
   "source": [
    "categorical_variables = []\n",
    "for colname in train_df.columns:\n",
    "    if train_df[colname].dtype == \"object\":\n",
    "        categorical_variables.append(colname)\n",
    "        print(\"Categorical Variable: %s, No. Categories: %d\" % (colname, len(np.unique(train_df[colname].values.astype(\"str\")))))"
   ]
  },
  {
   "cell_type": "code",
   "execution_count": 19,
   "metadata": {},
   "outputs": [],
   "source": [
    "train_df = pd.get_dummies(train_df, columns=['category','cuisine','center_type'])\n",
    "test_df = pd.get_dummies(test_df, columns=['category','cuisine','center_type'])"
   ]
  },
  {
   "cell_type": "code",
   "execution_count": 20,
   "metadata": {},
   "outputs": [],
   "source": [
    "def features(df):\n",
    "    agg_func = {\n",
    "    'id' : ['nunique']\n",
    "    }\n",
    "    agg_df1 = df.groupby(['week','center_id'])['id'].count()\n",
    "    agg_df1 = agg_df1.reset_index()\n",
    "    agg_df1 = agg_df1.rename(columns = {'id':'unique_week_center'})\n",
    "    \n",
    "    agg_df2 = df.groupby(['week','meal_id'])['id'].count()\n",
    "    agg_df2 = agg_df2.reset_index()\n",
    "    agg_df2 = agg_df2.rename(columns = {'id':'unique_week_meal'})\n",
    "    \n",
    "    agg_df3 = df.groupby(['week','city_code'])['id'].count()\n",
    "    agg_df3 = agg_df3.reset_index()\n",
    "    agg_df3 = agg_df3.rename(columns = {'id':'unique_week_city'})\n",
    "    return agg_df1, agg_df2, agg_df3"
   ]
  },
  {
   "cell_type": "code",
   "execution_count": 21,
   "metadata": {},
   "outputs": [],
   "source": [
    "train_agg_df1, train_agg_df2, train_agg_df3 = features(train_df)"
   ]
  },
  {
   "cell_type": "code",
   "execution_count": 22,
   "metadata": {},
   "outputs": [],
   "source": [
    "train_df = train_df.merge(train_agg_df1, on = ['week','center_id'], how = 'left')\n",
    "train_df = train_df.merge(train_agg_df2, on = ['week','meal_id'], how = 'left')\n",
    "train_df = train_df.merge(train_agg_df3, on = ['week','city_code'], how = 'left')"
   ]
  },
  {
   "cell_type": "code",
   "execution_count": 23,
   "metadata": {},
   "outputs": [],
   "source": [
    "test_agg_df1, test_agg_df2, test_agg_df3 = features(test_df)"
   ]
  },
  {
   "cell_type": "code",
   "execution_count": 24,
   "metadata": {},
   "outputs": [],
   "source": [
    "test_df = test_df.merge(test_agg_df1, on = ['week','center_id'], how = 'left')\n",
    "test_df = test_df.merge(test_agg_df2, on = ['week','meal_id'], how = 'left')\n",
    "test_df = test_df.merge(test_agg_df3, on = ['week','city_code'], how = 'left')"
   ]
  },
  {
   "cell_type": "code",
   "execution_count": 25,
   "metadata": {},
   "outputs": [
    {
     "data": {
      "text/plain": [
       "Index(['id', 'week', 'center_id', 'meal_id', 'checkout_price', 'base_price',\n",
       "       'emailer_for_promotion', 'homepage_featured', 'num_orders', 'discount',\n",
       "       'discount_per', 'city_code', 'region_code', 'op_area',\n",
       "       'category_Beverages', 'category_Biryani', 'category_Desert',\n",
       "       'category_Extras', 'category_Fish', 'category_Other Snacks',\n",
       "       'category_Pasta', 'category_Pizza', 'category_Rice Bowl',\n",
       "       'category_Salad', 'category_Sandwich', 'category_Seafood',\n",
       "       'category_Soup', 'category_Starters', 'cuisine_Continental',\n",
       "       'cuisine_Indian', 'cuisine_Italian', 'cuisine_Thai',\n",
       "       'center_type_TYPE_A', 'center_type_TYPE_B', 'center_type_TYPE_C',\n",
       "       'unique_week_center', 'unique_week_meal', 'unique_week_city'],\n",
       "      dtype='object')"
      ]
     },
     "execution_count": 25,
     "metadata": {},
     "output_type": "execute_result"
    }
   ],
   "source": [
    "train_df.columns"
   ]
  },
  {
   "cell_type": "code",
   "execution_count": 26,
   "metadata": {},
   "outputs": [],
   "source": [
    "def run_lgb(train_X, train_y, val_X, val_y, test_X):\n",
    "    params = {\n",
    "        \"objective\" : \"regression\",\n",
    "        \"metric\" : \"rmse\",\n",
    "        \"boosting\": \"gbdt\",\n",
    "        \"num_leaves\" : 100,\n",
    "        \"max_depth\" : 25,\n",
    "        \"min_child_weight\" : 50,\n",
    "        \"learning_rate\" : 0.05,\n",
    "        \"bagging_fraction\" : 0.7,\n",
    "        \"feature_fraction\" : 0.9,\n",
    "        \"bagging_frequency\" : 5,\n",
    "        \"bagging_seed\" : 7979,\n",
    "        \"verbosity\" : -1\n",
    "    }\n",
    "    \n",
    "    lgtrain = lgb.Dataset(train_X, label=np.log(train_y))\n",
    "    lgval = lgb.Dataset(val_X, label=np.log(val_y))\n",
    "    evals_result = {}\n",
    "    model = lgb.train(params, lgtrain, 3000, valid_sets=[lgval], early_stopping_rounds=100, verbose_eval=100, evals_result=evals_result)\n",
    "    \n",
    "    pred_test_y = model.predict(test_X, num_iteration=model.best_iteration)\n",
    "    return pred_test_y, model, evals_result"
   ]
  },
  {
   "cell_type": "code",
   "execution_count": 27,
   "metadata": {},
   "outputs": [],
   "source": [
    "feature_cols = ['center_id', 'meal_id', 'checkout_price', 'base_price',\n",
    "       'emailer_for_promotion', 'homepage_featured', 'discount',\n",
    "       'discount_per', 'city_code', 'region_code', 'op_area',\n",
    "       'category_Beverages', 'category_Biryani', 'category_Desert',\n",
    "       'category_Extras', 'category_Fish', 'category_Other Snacks',\n",
    "       'category_Pasta', 'category_Pizza', 'category_Rice Bowl',\n",
    "       'category_Salad', 'category_Sandwich', 'category_Seafood',\n",
    "       'category_Soup', 'category_Starters', 'cuisine_Continental',\n",
    "       'cuisine_Indian', 'cuisine_Italian', 'cuisine_Thai',\n",
    "       'center_type_TYPE_A', 'center_type_TYPE_B', 'center_type_TYPE_C',\n",
    "    'unique_week_meal', 'unique_week_city']"
   ]
  },
  {
   "cell_type": "code",
   "execution_count": 28,
   "metadata": {},
   "outputs": [],
   "source": [
    "from sklearn.model_selection import train_test_split"
   ]
  },
  {
   "cell_type": "code",
   "execution_count": 29,
   "metadata": {},
   "outputs": [],
   "source": [
    "#train_df1 = train_df[train_df['week']<=140]\n",
    "#train_df2 = train_df[train_df['week']>140]\n",
    "train_df1 = train_df"
   ]
  },
  {
   "cell_type": "code",
   "execution_count": 30,
   "metadata": {},
   "outputs": [],
   "source": [
    "train_X = train_df1[feature_cols]\n",
    "#val_X1 = train_df2[feature_cols]\n",
    "test_X = test_df[feature_cols]\n",
    "train_y = train_df1['num_orders'].values\n",
    "#val_y1 = train_df2['num_orders'].values"
   ]
  },
  {
   "cell_type": "code",
   "execution_count": null,
   "metadata": {
    "scrolled": true
   },
   "outputs": [
    {
     "name": "stdout",
     "output_type": "stream",
     "text": [
      "Training until validation scores don't improve for 100 rounds.\n",
      "[100]\tvalid_0's rmse: 0.532401\n",
      "[200]\tvalid_0's rmse: 0.505909\n",
      "[300]\tvalid_0's rmse: 0.497005\n",
      "[400]\tvalid_0's rmse: 0.490813\n",
      "[500]\tvalid_0's rmse: 0.48661\n",
      "[600]\tvalid_0's rmse: 0.483916\n",
      "[700]\tvalid_0's rmse: 0.481709\n",
      "[800]\tvalid_0's rmse: 0.480101\n",
      "[900]\tvalid_0's rmse: 0.478742\n",
      "[1000]\tvalid_0's rmse: 0.477495\n",
      "[1100]\tvalid_0's rmse: 0.476426\n",
      "[1200]\tvalid_0's rmse: 0.475657\n",
      "[1300]\tvalid_0's rmse: 0.474873\n",
      "[1400]\tvalid_0's rmse: 0.474125\n",
      "[1500]\tvalid_0's rmse: 0.473539\n",
      "[1600]\tvalid_0's rmse: 0.472936\n",
      "[1700]\tvalid_0's rmse: 0.472505\n",
      "[1800]\tvalid_0's rmse: 0.472089\n",
      "[1900]\tvalid_0's rmse: 0.471685\n",
      "[2000]\tvalid_0's rmse: 0.47136\n",
      "[2100]\tvalid_0's rmse: 0.47113\n",
      "[2200]\tvalid_0's rmse: 0.470863\n",
      "[2300]\tvalid_0's rmse: 0.470608\n",
      "[2400]\tvalid_0's rmse: 0.470547\n",
      "[2500]\tvalid_0's rmse: 0.470423\n",
      "[2600]\tvalid_0's rmse: 0.470352\n",
      "[2700]\tvalid_0's rmse: 0.470269\n",
      "[2800]\tvalid_0's rmse: 0.470223\n",
      "[2900]\tvalid_0's rmse: 0.47017\n",
      "[3000]\tvalid_0's rmse: 0.470052\n",
      "Did not meet early stopping. Best iteration is:\n",
      "[3000]\tvalid_0's rmse: 0.470052\n",
      "Training until validation scores don't improve for 100 rounds.\n",
      "[100]\tvalid_0's rmse: 0.53291\n",
      "[200]\tvalid_0's rmse: 0.506332\n",
      "[300]\tvalid_0's rmse: 0.497111\n",
      "[400]\tvalid_0's rmse: 0.491002\n",
      "[500]\tvalid_0's rmse: 0.487323\n",
      "[600]\tvalid_0's rmse: 0.484542\n",
      "[700]\tvalid_0's rmse: 0.482412\n",
      "[800]\tvalid_0's rmse: 0.480594\n",
      "[900]\tvalid_0's rmse: 0.479092\n",
      "[1000]\tvalid_0's rmse: 0.477991\n",
      "[1100]\tvalid_0's rmse: 0.476973\n",
      "[1200]\tvalid_0's rmse: 0.476163\n",
      "[1300]\tvalid_0's rmse: 0.47548\n",
      "[1400]\tvalid_0's rmse: 0.474957\n",
      "[1500]\tvalid_0's rmse: 0.474455\n",
      "[1600]\tvalid_0's rmse: 0.474011\n",
      "[1700]\tvalid_0's rmse: 0.47366\n",
      "[1800]\tvalid_0's rmse: 0.473327\n",
      "[1900]\tvalid_0's rmse: 0.473043\n",
      "[2000]\tvalid_0's rmse: 0.472787\n",
      "[2100]\tvalid_0's rmse: 0.472597\n",
      "[2200]\tvalid_0's rmse: 0.472453\n",
      "[2300]\tvalid_0's rmse: 0.472309\n",
      "[2400]\tvalid_0's rmse: 0.472081\n",
      "[2500]\tvalid_0's rmse: 0.471898\n",
      "[2600]\tvalid_0's rmse: 0.471816\n",
      "[2700]\tvalid_0's rmse: 0.471731\n",
      "[2800]\tvalid_0's rmse: 0.471658\n",
      "[2900]\tvalid_0's rmse: 0.471622\n",
      "[3000]\tvalid_0's rmse: 0.471587\n",
      "Did not meet early stopping. Best iteration is:\n",
      "[2988]\tvalid_0's rmse: 0.47157\n",
      "Training until validation scores don't improve for 100 rounds.\n",
      "[100]\tvalid_0's rmse: 0.533552\n",
      "[200]\tvalid_0's rmse: 0.506764\n",
      "[300]\tvalid_0's rmse: 0.497158\n",
      "[400]\tvalid_0's rmse: 0.49169\n",
      "[500]\tvalid_0's rmse: 0.487909\n",
      "[600]\tvalid_0's rmse: 0.485229\n",
      "[700]\tvalid_0's rmse: 0.483272\n",
      "[800]\tvalid_0's rmse: 0.48166\n",
      "[900]\tvalid_0's rmse: 0.480074\n",
      "[1000]\tvalid_0's rmse: 0.478663\n",
      "[1100]\tvalid_0's rmse: 0.477571\n",
      "[1200]\tvalid_0's rmse: 0.476754\n",
      "[1300]\tvalid_0's rmse: 0.47595\n",
      "[1400]\tvalid_0's rmse: 0.475314\n",
      "[1500]\tvalid_0's rmse: 0.474863\n",
      "[1600]\tvalid_0's rmse: 0.474416\n",
      "[1700]\tvalid_0's rmse: 0.474017\n",
      "[1800]\tvalid_0's rmse: 0.473623\n",
      "[1900]\tvalid_0's rmse: 0.473187\n",
      "[2000]\tvalid_0's rmse: 0.47291\n",
      "[2100]\tvalid_0's rmse: 0.472648\n",
      "[2200]\tvalid_0's rmse: 0.472495\n",
      "[2300]\tvalid_0's rmse: 0.472279\n",
      "[2400]\tvalid_0's rmse: 0.472149\n",
      "[2500]\tvalid_0's rmse: 0.472018\n",
      "[2600]\tvalid_0's rmse: 0.471827\n",
      "[2700]\tvalid_0's rmse: 0.471755\n",
      "[2800]\tvalid_0's rmse: 0.471672\n",
      "[2900]\tvalid_0's rmse: 0.471554\n",
      "[3000]\tvalid_0's rmse: 0.471526\n",
      "Did not meet early stopping. Best iteration is:\n",
      "[2990]\tvalid_0's rmse: 0.471522\n",
      "Training until validation scores don't improve for 100 rounds.\n",
      "[100]\tvalid_0's rmse: 0.532166\n",
      "[200]\tvalid_0's rmse: 0.505076\n",
      "[300]\tvalid_0's rmse: 0.495797\n",
      "[400]\tvalid_0's rmse: 0.490245\n",
      "[500]\tvalid_0's rmse: 0.486811\n",
      "[600]\tvalid_0's rmse: 0.483709\n",
      "[700]\tvalid_0's rmse: 0.481322\n",
      "[800]\tvalid_0's rmse: 0.479522\n",
      "[900]\tvalid_0's rmse: 0.477952\n",
      "[1000]\tvalid_0's rmse: 0.476766\n",
      "[1100]\tvalid_0's rmse: 0.475774\n",
      "[1200]\tvalid_0's rmse: 0.474876\n",
      "[1300]\tvalid_0's rmse: 0.474086\n",
      "[1400]\tvalid_0's rmse: 0.47341\n",
      "[1500]\tvalid_0's rmse: 0.472834\n",
      "[1600]\tvalid_0's rmse: 0.472349\n",
      "[1700]\tvalid_0's rmse: 0.471917\n",
      "[1800]\tvalid_0's rmse: 0.471586\n",
      "[1900]\tvalid_0's rmse: 0.471251\n",
      "[2000]\tvalid_0's rmse: 0.470911\n",
      "[2100]\tvalid_0's rmse: 0.470645\n",
      "[2200]\tvalid_0's rmse: 0.470338\n",
      "[2300]\tvalid_0's rmse: 0.47012\n",
      "[2400]\tvalid_0's rmse: 0.469937\n",
      "[2500]\tvalid_0's rmse: 0.469747\n",
      "[2600]\tvalid_0's rmse: 0.469634\n",
      "[2700]\tvalid_0's rmse: 0.469502\n",
      "[2800]\tvalid_0's rmse: 0.46941\n",
      "[2900]\tvalid_0's rmse: 0.469336\n",
      "[3000]\tvalid_0's rmse: 0.469304\n",
      "Did not meet early stopping. Best iteration is:\n",
      "[2981]\tvalid_0's rmse: 0.469297\n",
      "Training until validation scores don't improve for 100 rounds.\n",
      "[100]\tvalid_0's rmse: 0.534168\n",
      "[200]\tvalid_0's rmse: 0.508033\n",
      "[300]\tvalid_0's rmse: 0.49871\n",
      "[400]\tvalid_0's rmse: 0.493391\n",
      "[500]\tvalid_0's rmse: 0.489561\n",
      "[600]\tvalid_0's rmse: 0.486736\n",
      "[700]\tvalid_0's rmse: 0.484469\n",
      "[800]\tvalid_0's rmse: 0.482637\n",
      "[900]\tvalid_0's rmse: 0.480945\n",
      "[1000]\tvalid_0's rmse: 0.479705\n",
      "[1100]\tvalid_0's rmse: 0.478572\n",
      "[1200]\tvalid_0's rmse: 0.477868\n",
      "[1300]\tvalid_0's rmse: 0.477223\n",
      "[1400]\tvalid_0's rmse: 0.4767\n",
      "[1500]\tvalid_0's rmse: 0.476203\n",
      "[1600]\tvalid_0's rmse: 0.475764\n",
      "[1700]\tvalid_0's rmse: 0.475355\n",
      "[1800]\tvalid_0's rmse: 0.475051\n",
      "[1900]\tvalid_0's rmse: 0.474644\n",
      "[2000]\tvalid_0's rmse: 0.474271\n",
      "[2100]\tvalid_0's rmse: 0.473941\n"
     ]
    }
   ],
   "source": [
    "pred_test = 0\n",
    "kf = model_selection.KFold(n_splits=5, random_state=6969, shuffle=True)\n",
    "for dev_index, val_index in kf.split(train_df1):\n",
    "    dev_X, val_X = train_X.loc[dev_index,:], train_X.loc[val_index,:]\n",
    "    dev_y, val_y = train_y[dev_index], train_y[val_index]\n",
    "    \n",
    "    pred_test_tmp, model, evals_result = run_lgb(dev_X, dev_y, val_X, val_y, test_X)\n",
    "    pred_test += pred_test_tmp\n",
    "pred_test /= 5."
   ]
  },
  {
   "cell_type": "code",
   "execution_count": null,
   "metadata": {},
   "outputs": [],
   "source": [
    "#metrics.mean_squared_log_error(val_y1,np.round(np.exp(model.predict(val_X1, num_iteration=model.best_iteration))))"
   ]
  },
  {
   "cell_type": "code",
   "execution_count": null,
   "metadata": {},
   "outputs": [],
   "source": [
    "sub_df = pd.DataFrame({\"id\":test_df[\"id\"].values})\n",
    "sub_df[\"num_orders\"] = np.round(np.exp(pred_test), decimals=0)\n",
    "sub_df.to_csv(\"log_trans_lgb7.csv\", index=False)"
   ]
  },
  {
   "cell_type": "code",
   "execution_count": null,
   "metadata": {},
   "outputs": [],
   "source": [
    "fig, ax = plt.subplots(figsize=(12,10))\n",
    "lgb.plot_importance(model, max_num_features=50, height=0.8, ax=ax)\n",
    "ax.grid(False)\n",
    "plt.title(\"LightGBM - Feature Importance\", fontsize=15)\n",
    "plt.show()"
   ]
  }
 ],
 "metadata": {
  "kernelspec": {
   "display_name": "Python 3",
   "language": "python",
   "name": "python3"
  },
  "language_info": {
   "codemirror_mode": {
    "name": "ipython",
    "version": 3
   },
   "file_extension": ".py",
   "mimetype": "text/x-python",
   "name": "python",
   "nbconvert_exporter": "python",
   "pygments_lexer": "ipython3",
   "version": "3.6.6"
  }
 },
 "nbformat": 4,
 "nbformat_minor": 2
}
